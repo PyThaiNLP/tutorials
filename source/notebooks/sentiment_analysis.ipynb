{
 "cells": [
  {
   "cell_type": "markdown",
   "metadata": {
    "colab_type": "text",
    "id": "8AF08ssF6z5K"
   },
   "source": [
    "# Wisesight Sentiment Analysis"
   ]
  },
  {
   "cell_type": "markdown",
   "metadata": {
    "colab_type": "text",
    "id": "o-tHtMyc6z5L"
   },
   "source": [
    "This notebook details the steps taken to create a sentiment analyzer using data from [Wisesight Sentiment Corpus](https://github.com/PyThaiNLP/wisesight-sentiment/blob/master/README.md). Evaluation metric is overall accuracy across `neg`ative, `pos`itive, `neu`tral and `q`uestion classes. We give examples using logistic regression and [ULMFit](https://arxiv.org/abs/1801.06146).\n",
    "\n",
    "The results for logistic regression, [fastText](https://fasttext.cc/), ULMFit, ULMFit with semi-supervised data are as follows:\n",
    "\n",
    "| Model               | Public Accuracy | Private Accuracy |\n",
    "|---------------------|-----------------|------------------|\n",
    "| Logistic Regression | 0.72781         | 0.7499           |\n",
    "| fastText            | 0.63144         | 0.6131           |\n",
    "| ULMFit              | 0.71259         | 0.74194          |\n",
    "| ULMFit Semi-supervised    | 0.73119     | 0.75859      |\n",
    "| ULMFit Semi-supervised Repeated One Time    | **0.73372**     | **0.75968**      |\n",
    "\n",
    "* For more information about the Kaggle competition, which this notebook based upon, see [1st Place Solution](https://www.kaggle.com/c/wisesight-sentiment/discussion/83564).\n",
    "* For more updated version of data, including a tokenized `wisesight-1000` evaluation set, see [Wisesight Sentiment Corpus](https://github.com/PyThaiNLP/wisesight-sentiment)."
   ]
  },
  {
   "cell_type": "code",
   "execution_count": 2,
   "metadata": {
    "colab": {
     "base_uri": "https://localhost:8080/",
     "height": 1000
    },
    "colab_type": "code",
    "id": "bNjkuQK46z5M",
    "outputId": "e04e1073-d8ca-4bd2-ac1c-2240826a75dc"
   },
   "outputs": [],
   "source": [
    "# #uncomment if you are running from google colab\n",
    "# !pip install sklearn_crfsuite\n",
    "# !pip install emoji\n",
    "# !pip install https://github.com/PyThaiNLP/pythainlp/archive/dev.zip\n",
    "# !pip install fastai\n",
    "# !wget https://github.com/PyThaiNLP/wisesight-sentiment/archive/master.zip\n",
    "# !unzip master.zip\n",
    "# !mkdir wisesight_data; ls\n",
    "# !cd wisesight-sentiment-master/kaggle-competition; ls"
   ]
  },
  {
   "cell_type": "code",
   "execution_count": 21,
   "metadata": {},
   "outputs": [],
   "source": [
    "#snippet to install thai font in matplotlib from https://gist.github.com/korakot/9d7f5db632351dc92607fdec72a4953f\n",
    "import matplotlib\n",
    "!wget https://github.com/Phonbopit/sarabun-webfont/raw/master/fonts/thsarabunnew-webfont.ttf\n",
    "!cp thsarabunnew-webfont.ttf /usr/local/lib/python3.6/dist-packages/matplotlib/mpl-data/fonts/ttf/\n",
    "!cp thsarabunnew-webfont.ttf /usr/share/fonts/truetype/\n",
    "matplotlib.font_manager._rebuild()\n",
    "matplotlib.rc('font', family='TH Sarabun New')"
   ]
  },
  {
   "cell_type": "code",
   "execution_count": 6,
   "metadata": {
    "colab": {},
    "colab_type": "code",
    "id": "Zs8wtP0m6z5O"
   },
   "outputs": [
    {
     "name": "stdout",
     "output_type": "stream",
     "text": [
      "The autoreload extension is already loaded. To reload it, use:\n",
      "  %reload_ext autoreload\n"
     ]
    }
   ],
   "source": [
    "%load_ext autoreload\n",
    "%autoreload 2\n",
    "\n",
    "import numpy as np\n",
    "import pandas as pd\n",
    "\n",
    "from pythainlp import word_tokenize\n",
    "from tqdm import tqdm_notebook\n",
    "from pythainlp.ulmfit import process_thai\n",
    "\n",
    "#viz\n",
    "import matplotlib.pyplot as plt\n",
    "import seaborn as sns"
   ]
  },
  {
   "cell_type": "markdown",
   "metadata": {
    "colab_type": "text",
    "id": "cRXpcJp16z5R"
   },
   "source": [
    "## Text Processor for Logistic Regression"
   ]
  },
  {
   "cell_type": "markdown",
   "metadata": {},
   "source": [
    "`pythainlp.ulmfit.process_thai` contains text cleaning rules with the default aimed for sparse models like bag of words. It contains `pre_rules` applied before tokenization and `post_rules` applied after."
   ]
  },
  {
   "cell_type": "code",
   "execution_count": 57,
   "metadata": {},
   "outputs": [],
   "source": [
    "?process_thai"
   ]
  },
  {
   "cell_type": "code",
   "execution_count": 59,
   "metadata": {},
   "outputs": [
    {
     "data": {
      "text/plain": [
       "['บ้าน',\n",
       " 'xxrep',\n",
       " '  ',\n",
       " 'อยู่',\n",
       " 'xxwrep',\n",
       " 'นาน',\n",
       " '😂',\n",
       " '🤣',\n",
       " '😃',\n",
       " '😄',\n",
       " '😅',\n",
       " 'pythainlp',\n",
       " '&',\n",
       " 'xxurl']"
      ]
     },
     "execution_count": 59,
     "metadata": {},
     "output_type": "execute_result"
    }
   ],
   "source": [
    "from pythainlp.ulmfit import *\n",
    "process_thai(\"บ้านนนนน ()อยู่นานนานนาน 😂🤣😃😄😅 PyThaiNLP amp;     www.google.com\")"
   ]
  },
  {
   "cell_type": "markdown",
   "metadata": {
    "colab_type": "text",
    "id": "71ZMt4_h6z5U"
   },
   "source": [
    "## Process Text Files to CSVs"
   ]
  },
  {
   "cell_type": "code",
   "execution_count": 7,
   "metadata": {
    "colab": {
     "base_uri": "https://localhost:8080/",
     "height": 34
    },
    "colab_type": "code",
    "id": "4NNjkF3i6z5U",
    "outputId": "3d75e334-45b7-4343-a5ea-045ae9713a71",
    "scrolled": true
   },
   "outputs": [
    {
     "data": {
      "text/plain": [
       "(24063, 2)"
      ]
     },
     "execution_count": 7,
     "metadata": {},
     "output_type": "execute_result"
    }
   ],
   "source": [
    "with open(\"wisesight-sentiment-master/kaggle-competition/train.txt\") as f:\n",
    "    texts = [line.strip() for line in f.readlines()]\n",
    "\n",
    "with open(\"wisesight-sentiment-master/kaggle-competition/train_label.txt\") as f:\n",
    "    categories = [line.strip() for line in f.readlines()]\n",
    "\n",
    "all_df = pd.DataFrame({\"category\":categories, \"texts\":texts})\n",
    "all_df.to_csv('all_df.csv',index=False)\n",
    "all_df.shape"
   ]
  },
  {
   "cell_type": "code",
   "execution_count": 8,
   "metadata": {
    "colab": {
     "base_uri": "https://localhost:8080/",
     "height": 34
    },
    "colab_type": "code",
    "id": "E3Ww3CIi6z5X",
    "outputId": "fed8efc7-5125-4bb7-d7f2-abc76010a4d4"
   },
   "outputs": [
    {
     "data": {
      "text/plain": [
       "(2674, 2)"
      ]
     },
     "execution_count": 8,
     "metadata": {},
     "output_type": "execute_result"
    }
   ],
   "source": [
    "with open(\"wisesight-sentiment-master/kaggle-competition/test.txt\") as f:\n",
    "    texts = [line.strip() for line in f.readlines()]\n",
    "\n",
    "test_df = pd.DataFrame({\"category\":\"test\", \"texts\":texts})\n",
    "test_df.shape"
   ]
  },
  {
   "cell_type": "markdown",
   "metadata": {
    "colab_type": "text",
    "id": "E5rbH6aJ6z5a"
   },
   "source": [
    "## Load Data"
   ]
  },
  {
   "cell_type": "code",
   "execution_count": 9,
   "metadata": {
    "colab": {},
    "colab_type": "code",
    "id": "yhQ6MX7U6z5a"
   },
   "outputs": [],
   "source": [
    "all_df[\"processed\"] = all_df.texts.map(lambda x: \"|\".join(process_thai(x)))\n",
    "all_df[\"wc\"] = all_df.processed.map(lambda x: len(x.split(\"|\")))\n",
    "all_df[\"uwc\"] = all_df.processed.map(lambda x: len(set(x.split(\"|\"))))\n",
    "\n",
    "test_df[\"processed\"] = test_df.texts.map(lambda x: \"|\".join(process_thai(x)))\n",
    "test_df[\"wc\"] = test_df.processed.map(lambda x: len(x.split(\"|\")))\n",
    "test_df[\"uwc\"] = test_df.processed.map(lambda x: len(set(x.split(\"|\"))))"
   ]
  },
  {
   "cell_type": "code",
   "execution_count": 10,
   "metadata": {
    "colab": {
     "base_uri": "https://localhost:8080/",
     "height": 102
    },
    "colab_type": "code",
    "id": "iEDdQ9hH6z5c",
    "outputId": "d27939a6-ee4f-4892-bcc1-40623aca567b"
   },
   "outputs": [
    {
     "data": {
      "text/plain": [
       "neu    0.544612\n",
       "neg    0.255164\n",
       "pos    0.178698\n",
       "q      0.021527\n",
       "Name: category, dtype: float64"
      ]
     },
     "execution_count": 10,
     "metadata": {},
     "output_type": "execute_result"
    }
   ],
   "source": [
    "#prevalence\n",
    "all_df.category.value_counts() / all_df.shape[0]"
   ]
  },
  {
   "cell_type": "markdown",
   "metadata": {
    "colab_type": "text",
    "id": "-jPw7Rbu6z5f"
   },
   "source": [
    "## Train-validation Split"
   ]
  },
  {
   "cell_type": "markdown",
   "metadata": {
    "colab_type": "text",
    "id": "K9b0gp626z5g"
   },
   "source": [
    "We perform 85/15 random train-validation split. We also perform under/oversampling to balance out the classes a little."
   ]
  },
  {
   "cell_type": "code",
   "execution_count": 11,
   "metadata": {
    "colab": {},
    "colab_type": "code",
    "id": "ioXCNzVX6z5h"
   },
   "outputs": [],
   "source": [
    "#when finding hyperparameters\n",
    "from sklearn.model_selection import train_test_split\n",
    "train_df, valid_df = train_test_split(all_df, test_size=0.15, random_state=1412)\n",
    "train_df = train_df.reset_index(drop=True)\n",
    "valid_df = valid_df.reset_index(drop=True)\n",
    "\n",
    "#when actually doing it\n",
    "# train_df = all_df.copy()\n",
    "# valid_df = pd.read_csv('valid_df.csv')"
   ]
  },
  {
   "cell_type": "code",
   "execution_count": 12,
   "metadata": {
    "colab": {
     "base_uri": "https://localhost:8080/",
     "height": 204
    },
    "colab_type": "code",
    "id": "J5sCacbM6z5j",
    "outputId": "03df103a-e045-4dfa-d544-2d51cb374346"
   },
   "outputs": [
    {
     "data": {
      "text/html": [
       "<div>\n",
       "<style scoped>\n",
       "    .dataframe tbody tr th:only-of-type {\n",
       "        vertical-align: middle;\n",
       "    }\n",
       "\n",
       "    .dataframe tbody tr th {\n",
       "        vertical-align: top;\n",
       "    }\n",
       "\n",
       "    .dataframe thead th {\n",
       "        text-align: right;\n",
       "    }\n",
       "</style>\n",
       "<table border=\"1\" class=\"dataframe\">\n",
       "  <thead>\n",
       "    <tr style=\"text-align: right;\">\n",
       "      <th></th>\n",
       "      <th>category</th>\n",
       "      <th>texts</th>\n",
       "      <th>processed</th>\n",
       "      <th>wc</th>\n",
       "      <th>uwc</th>\n",
       "    </tr>\n",
       "  </thead>\n",
       "  <tbody>\n",
       "    <tr>\n",
       "      <th>0</th>\n",
       "      <td>neu</td>\n",
       "      <td>เห็นคนลบแอพ viu ก็เห็นใจและเข้าใจเขานะคะ แผลมั...</td>\n",
       "      <td>เห็น|คน|ลบ|แอ|พ|viu|ก็|เห็นใจ|และ|เข้าใจ|เขา|น...</td>\n",
       "      <td>48</td>\n",
       "      <td>43</td>\n",
       "    </tr>\n",
       "    <tr>\n",
       "      <th>1</th>\n",
       "      <td>neu</td>\n",
       "      <td>ไปชมไม้คิวของแชมป์ และรองแชมป์ กันจ้า! ..........</td>\n",
       "      <td>ไป|ชม|ไม้|คิว|ของ|แชมป์|และ|รอง|แชมป์|กัน|จ้า|...</td>\n",
       "      <td>43</td>\n",
       "      <td>41</td>\n",
       "    </tr>\n",
       "    <tr>\n",
       "      <th>2</th>\n",
       "      <td>neg</td>\n",
       "      <td>กลุ่มรถซีวิคเป็นกลุ่มที่น่ารำคานมากกกกกกกกก อว...</td>\n",
       "      <td>กลุ่ม|รถ|ซีวิค|เป็น|กลุ่ม|ที่|น่า|รำ|คาน|มาก|x...</td>\n",
       "      <td>47</td>\n",
       "      <td>36</td>\n",
       "    </tr>\n",
       "    <tr>\n",
       "      <th>3</th>\n",
       "      <td>neu</td>\n",
       "      <td>อยากสวยเหมือนเจ้าของแบรนด์สิคะ เนย โชติกา ใบหน...</td>\n",
       "      <td>อยาก|สวย|เหมือน|เจ้าของ|แบรนด์|สิ|คะ|เนย|โชติ|...</td>\n",
       "      <td>72</td>\n",
       "      <td>56</td>\n",
       "    </tr>\n",
       "    <tr>\n",
       "      <th>4</th>\n",
       "      <td>neg</td>\n",
       "      <td>ข้าวโถละร้อย แพง เพราะตักเป็นจานๆละ15 เต็มที่ก...</td>\n",
       "      <td>ข้าว|โถ|ละ|ร้อย|แพง|เพราะ|ตัก|เป็น|จาน|ๆ|ละ|15...</td>\n",
       "      <td>381</td>\n",
       "      <td>218</td>\n",
       "    </tr>\n",
       "  </tbody>\n",
       "</table>\n",
       "</div>"
      ],
      "text/plain": [
       "  category                                              texts  \\\n",
       "0      neu  เห็นคนลบแอพ viu ก็เห็นใจและเข้าใจเขานะคะ แผลมั...   \n",
       "1      neu  ไปชมไม้คิวของแชมป์ และรองแชมป์ กันจ้า! ..........   \n",
       "2      neg  กลุ่มรถซีวิคเป็นกลุ่มที่น่ารำคานมากกกกกกกกก อว...   \n",
       "3      neu  อยากสวยเหมือนเจ้าของแบรนด์สิคะ เนย โชติกา ใบหน...   \n",
       "4      neg  ข้าวโถละร้อย แพง เพราะตักเป็นจานๆละ15 เต็มที่ก...   \n",
       "\n",
       "                                           processed   wc  uwc  \n",
       "0  เห็น|คน|ลบ|แอ|พ|viu|ก็|เห็นใจ|และ|เข้าใจ|เขา|น...   48   43  \n",
       "1  ไป|ชม|ไม้|คิว|ของ|แชมป์|และ|รอง|แชมป์|กัน|จ้า|...   43   41  \n",
       "2  กลุ่ม|รถ|ซีวิค|เป็น|กลุ่ม|ที่|น่า|รำ|คาน|มาก|x...   47   36  \n",
       "3  อยาก|สวย|เหมือน|เจ้าของ|แบรนด์|สิ|คะ|เนย|โชติ|...   72   56  \n",
       "4  ข้าว|โถ|ละ|ร้อย|แพง|เพราะ|ตัก|เป็น|จาน|ๆ|ละ|15...  381  218  "
      ]
     },
     "execution_count": 12,
     "metadata": {},
     "output_type": "execute_result"
    }
   ],
   "source": [
    "valid_df.head()"
   ]
  },
  {
   "cell_type": "code",
   "execution_count": 13,
   "metadata": {
    "colab": {
     "base_uri": "https://localhost:8080/",
     "height": 102
    },
    "colab_type": "code",
    "id": "GojEjj2k6z5m",
    "outputId": "1596bac3-8a47-49bf-ed6c-59745c422145"
   },
   "outputs": [
    {
     "name": "stdout",
     "output_type": "stream",
     "text": [
      "neu    0.544957\n",
      "neg    0.253557\n",
      "pos    0.180071\n",
      "q      0.021415\n",
      "Name: category, dtype: float64\n"
     ]
    }
   ],
   "source": [
    "#prevalence\n",
    "print(train_df[\"category\"].value_counts() / train_df.shape[0])"
   ]
  },
  {
   "cell_type": "code",
   "execution_count": 14,
   "metadata": {
    "colab": {
     "base_uri": "https://localhost:8080/",
     "height": 102
    },
    "colab_type": "code",
    "id": "sH1t3bal6z5o",
    "outputId": "0c50fe48-3671-4940-d4fa-294161e84fa0"
   },
   "outputs": [
    {
     "name": "stdout",
     "output_type": "stream",
     "text": [
      "neu    0.542659\n",
      "neg    0.264266\n",
      "pos    0.170914\n",
      "q      0.022161\n",
      "Name: category, dtype: float64\n"
     ]
    }
   ],
   "source": [
    "#prevalence\n",
    "print(valid_df[\"category\"].value_counts() / valid_df.shape[0])"
   ]
  },
  {
   "cell_type": "markdown",
   "metadata": {
    "colab_type": "text",
    "id": "fhsWvG9c6z5q"
   },
   "source": [
    "## Logistic Regression"
   ]
  },
  {
   "cell_type": "markdown",
   "metadata": {
    "colab_type": "text",
    "id": "oUAqMvNe6z5q"
   },
   "source": [
    "### Create Features"
   ]
  },
  {
   "cell_type": "code",
   "execution_count": 15,
   "metadata": {
    "colab": {},
    "colab_type": "code",
    "id": "5eI-DEzW6z5r"
   },
   "outputs": [],
   "source": [
    "#dependent variables\n",
    "y_train = train_df[\"category\"]\n",
    "y_valid = valid_df[\"category\"]"
   ]
  },
  {
   "cell_type": "code",
   "execution_count": 16,
   "metadata": {
    "colab": {
     "base_uri": "https://localhost:8080/",
     "height": 34
    },
    "colab_type": "code",
    "id": "Ry4GTGaC6z5t",
    "outputId": "30ae3a5e-b10b-4ec6-d907-5323714b1017"
   },
   "outputs": [
    {
     "data": {
      "text/plain": [
       "((20453, 4614), (3610, 4614))"
      ]
     },
     "execution_count": 16,
     "metadata": {},
     "output_type": "execute_result"
    }
   ],
   "source": [
    "#text faetures\n",
    "from sklearn.feature_extraction.text import TfidfVectorizer\n",
    "from sklearn.linear_model import LogisticRegression\n",
    "\n",
    "tfidf = TfidfVectorizer(tokenizer=process_thai, ngram_range=(1,2), min_df=20, sublinear_tf=True)\n",
    "tfidf_fit = tfidf.fit(all_df[\"texts\"])\n",
    "text_train = tfidf_fit.transform(train_df[\"texts\"])\n",
    "text_valid = tfidf_fit.transform(valid_df[\"texts\"])\n",
    "text_test = tfidf_fit.transform(test_df[\"texts\"])\n",
    "text_train.shape, text_valid.shape"
   ]
  },
  {
   "cell_type": "code",
   "execution_count": 17,
   "metadata": {},
   "outputs": [
    {
     "name": "stdout",
     "output_type": "stream",
     "text": [
      "CPU times: user 448 ms, sys: 492 ms, total: 940 ms\n",
      "Wall time: 938 ms\n",
      "(4614, 5)\n"
     ]
    },
    {
     "data": {
      "text/html": [
       "<div>\n",
       "<style scoped>\n",
       "    .dataframe tbody tr th:only-of-type {\n",
       "        vertical-align: middle;\n",
       "    }\n",
       "\n",
       "    .dataframe tbody tr th {\n",
       "        vertical-align: top;\n",
       "    }\n",
       "\n",
       "    .dataframe thead th {\n",
       "        text-align: right;\n",
       "    }\n",
       "</style>\n",
       "<table border=\"1\" class=\"dataframe\">\n",
       "  <thead>\n",
       "    <tr style=\"text-align: right;\">\n",
       "      <th></th>\n",
       "      <th>rank</th>\n",
       "      <th>feature</th>\n",
       "      <th>score</th>\n",
       "      <th>ngram</th>\n",
       "      <th>label</th>\n",
       "    </tr>\n",
       "  </thead>\n",
       "  <tbody>\n",
       "    <tr>\n",
       "      <th>0</th>\n",
       "      <td>0</td>\n",
       "      <td>ไม่</td>\n",
       "      <td>0.029990</td>\n",
       "      <td>1</td>\n",
       "      <td>neg</td>\n",
       "    </tr>\n",
       "    <tr>\n",
       "      <th>1</th>\n",
       "      <td>1</td>\n",
       "      <td>กิน</td>\n",
       "      <td>0.022852</td>\n",
       "      <td>1</td>\n",
       "      <td>neg</td>\n",
       "    </tr>\n",
       "    <tr>\n",
       "      <th>2</th>\n",
       "      <td>2</td>\n",
       "      <td>xxrep</td>\n",
       "      <td>0.020252</td>\n",
       "      <td>1</td>\n",
       "      <td>neg</td>\n",
       "    </tr>\n",
       "    <tr>\n",
       "      <th>3</th>\n",
       "      <td>3</td>\n",
       "      <td>เลย</td>\n",
       "      <td>0.019493</td>\n",
       "      <td>1</td>\n",
       "      <td>neg</td>\n",
       "    </tr>\n",
       "    <tr>\n",
       "      <th>4</th>\n",
       "      <td>4</td>\n",
       "      <td>แต่</td>\n",
       "      <td>0.018153</td>\n",
       "      <td>1</td>\n",
       "      <td>neg</td>\n",
       "    </tr>\n",
       "  </tbody>\n",
       "</table>\n",
       "</div>"
      ],
      "text/plain": [
       "   rank feature     score  ngram label\n",
       "0     0     ไม่  0.029990      1   neg\n",
       "1     1     กิน  0.022852      1   neg\n",
       "2     2   xxrep  0.020252      1   neg\n",
       "3     3     เลย  0.019493      1   neg\n",
       "4     4     แต่  0.018153      1   neg"
      ]
     },
     "execution_count": 17,
     "metadata": {},
     "output_type": "execute_result"
    }
   ],
   "source": [
    "#visualize texts\n",
    "from visualize import top_feats_all, plot_top_feats\n",
    "features = tfidf_fit.get_feature_names()\n",
    "%time ts = top_feats_all(text_train.toarray(), y_train, features)\n",
    "print(ts[0].shape)\n",
    "ts[0].head()"
   ]
  },
  {
   "cell_type": "code",
   "execution_count": 20,
   "metadata": {},
   "outputs": [
    {
     "data": {
      "image/png": "[encoded data removed]",
      "text/plain": [
       "<Figure size 864x648 with 4 Axes>"
      ]
     },
     "metadata": {},
     "output_type": "display_data"
    },
    {
     "name": "stdout",
     "output_type": "stream",
     "text": [
      "CPU times: user 1.36 s, sys: 852 ms, total: 2.21 s\n",
      "Wall time: 862 ms\n"
     ]
    }
   ],
   "source": [
    "%time plot_top_feats(ts)"
   ]
  },
  {
   "cell_type": "code",
   "execution_count": 73,
   "metadata": {
    "colab": {
     "base_uri": "https://localhost:8080/",
     "height": 51
    },
    "colab_type": "code",
    "id": "7MnvOFdC6z5v",
    "outputId": "a80b5dc6-7973-4be4-8ab6-1be4945f5f03"
   },
   "outputs": [
    {
     "name": "stdout",
     "output_type": "stream",
     "text": [
      "[21.96529942 18.22744462] [1151.47512883  513.46009207]\n"
     ]
    },
    {
     "data": {
      "text/plain": [
       "((20453, 2), (3610, 2))"
      ]
     },
     "execution_count": 73,
     "metadata": {},
     "output_type": "execute_result"
    }
   ],
   "source": [
    "#word count and unique word counts; actually might not be so useful\n",
    "from sklearn.preprocessing import StandardScaler\n",
    "\n",
    "scaler = StandardScaler()\n",
    "scaler_fit = scaler.fit(all_df[[\"wc\",\"uwc\"]].astype(float))\n",
    "print(scaler_fit.mean_, scaler_fit.var_)\n",
    "num_train = scaler_fit.transform(train_df[[\"wc\",\"uwc\"]].astype(float))\n",
    "num_valid = scaler_fit.transform(valid_df[[\"wc\",\"uwc\"]].astype(float))\n",
    "num_test = scaler_fit.transform(test_df[[\"wc\",\"uwc\"]].astype(float))\n",
    "num_train.shape, num_valid.shape"
   ]
  },
  {
   "cell_type": "code",
   "execution_count": 74,
   "metadata": {
    "colab": {
     "base_uri": "https://localhost:8080/",
     "height": 34
    },
    "colab_type": "code",
    "id": "bj5PA95S6z5w",
    "outputId": "925ecd72-0444-48d0-baa9-1e724d0242f5"
   },
   "outputs": [
    {
     "data": {
      "text/plain": [
       "((20453, 4616), (3610, 4616))"
      ]
     },
     "execution_count": 74,
     "metadata": {},
     "output_type": "execute_result"
    }
   ],
   "source": [
    "#concatenate text and word count features\n",
    "X_train = np.concatenate([num_train,text_train.toarray()],axis=1)\n",
    "X_valid = np.concatenate([num_valid,text_valid.toarray()],axis=1)\n",
    "X_test = np.concatenate([num_test,text_test.toarray()],axis=1)\n",
    "X_train.shape, X_valid.shape"
   ]
  },
  {
   "cell_type": "markdown",
   "metadata": {
    "colab_type": "text",
    "id": "W4prkGZr6z5y"
   },
   "source": [
    "### Fit Model"
   ]
  },
  {
   "cell_type": "code",
   "execution_count": 75,
   "metadata": {
    "colab": {
     "base_uri": "https://localhost:8080/",
     "height": 34
    },
    "colab_type": "code",
    "id": "_2IKPcUL6z5z",
    "outputId": "b8e58817-b2ad-440c-9eee-d20e5468a557"
   },
   "outputs": [
    {
     "data": {
      "text/plain": [
       "0.7324099722991689"
      ]
     },
     "execution_count": 75,
     "metadata": {},
     "output_type": "execute_result"
    }
   ],
   "source": [
    "#fit logistic regression models\n",
    "model = LogisticRegression(C=2., penalty=\"l2\", solver=\"liblinear\", dual=False, multi_class=\"ovr\")\n",
    "model.fit(X_train,y_train)\n",
    "model.score(X_valid,y_valid)"
   ]
  },
  {
   "cell_type": "markdown",
   "metadata": {
    "colab_type": "text",
    "id": "jFGtgFHF6z51"
   },
   "source": [
    "### See Results"
   ]
  },
  {
   "cell_type": "code",
   "execution_count": 76,
   "metadata": {
    "colab": {},
    "colab_type": "code",
    "id": "7cub1c5S6z51"
   },
   "outputs": [],
   "source": [
    "probs = model.predict_proba(X_valid)\n",
    "probs_df = pd.DataFrame(probs)\n",
    "probs_df.columns = model.classes_\n",
    "probs_df[\"preds\"] = model.predict(X_valid)\n",
    "probs_df[\"category\"] = valid_df.category\n",
    "probs_df[\"texts\"] = valid_df.texts\n",
    "probs_df[\"processed\"] = valid_df.processed\n",
    "probs_df[\"wc\"] = valid_df.wc\n",
    "probs_df[\"uwc\"] = valid_df.uwc\n",
    "probs_df[\"hit\"] = (probs_df.preds==probs_df.category)\n",
    "probs_df.to_csv(\"probs_df_linear.csv\", index=False)"
   ]
  },
  {
   "cell_type": "code",
   "execution_count": 77,
   "metadata": {
    "colab": {
     "base_uri": "https://localhost:8080/",
     "height": 300
    },
    "colab_type": "code",
    "id": "pa4Q0nPS6z54",
    "outputId": "3e392b32-54c6-4fda-e819-af43e9ba0fd7"
   },
   "outputs": [
    {
     "name": "stdout",
     "output_type": "stream",
     "text": [
      "0.7324099722991689\n"
     ]
    },
    {
     "data": {
      "image/png": "[encoded data removed]",
      "text/plain": [
       "<Figure size 432x288 with 2 Axes>"
      ]
     },
     "metadata": {
      "needs_background": "light"
     },
     "output_type": "display_data"
    }
   ],
   "source": [
    "from sklearn.metrics import confusion_matrix\n",
    "\n",
    "conf_mat = confusion_matrix(probs_df.category,probs_df.preds)\n",
    "print(model.score(X_valid,y_valid))\n",
    "sns.heatmap(conf_mat, annot=True, fmt=\"d\",\n",
    "            xticklabels=model.classes_, yticklabels=model.classes_)\n",
    "plt.ylabel(\"Actual\")\n",
    "plt.xlabel(\"Predicted\")\n",
    "plt.show()"
   ]
  },
  {
   "cell_type": "markdown",
   "metadata": {
    "colab_type": "text",
    "id": "KIfXHEVn6z58"
   },
   "source": [
    "## [ULMFit](https://github.com/cstorm125/thai2fit) Model"
   ]
  },
  {
   "cell_type": "code",
   "execution_count": 79,
   "metadata": {
    "colab": {},
    "colab_type": "code",
    "id": "xPQoEbfC6z58"
   },
   "outputs": [],
   "source": [
    "from fastai.text import *\n",
    "from fastai.callbacks import CSVLogger, SaveModelCallback\n",
    "from pythainlp.ulmfit import *\n",
    "\n",
    "model_path = \"wisesight_data/\"\n",
    "all_df = pd.read_csv(\"all_df.csv\")\n",
    "train_df, valid_df = train_test_split(all_df, test_size=0.15, random_state=1412)"
   ]
  },
  {
   "cell_type": "markdown",
   "metadata": {
    "colab_type": "text",
    "id": "RIUQEyb96z5-"
   },
   "source": [
    "### Finetune Language Model"
   ]
  },
  {
   "cell_type": "code",
   "execution_count": 0,
   "metadata": {
    "colab": {},
    "colab_type": "code",
    "id": "XGpprjbp6z5_"
   },
   "outputs": [],
   "source": [
    "tt = Tokenizer(tok_func=ThaiTokenizer, lang=\"th\", pre_rules=pre_rules_th, post_rules=post_rules_th)\n",
    "processor = [TokenizeProcessor(tokenizer=tt, chunksize=10000, mark_fields=False),\n",
    "            NumericalizeProcessor(vocab=None, max_vocab=60000, min_freq=2)]\n",
    "\n",
    "data_lm = (TextList.from_df(all_df, model_path, cols=\"texts\", processor=processor)\n",
    "    .split_by_rand_pct(valid_pct = 0.01, seed = 1412)\n",
    "    .label_for_lm()\n",
    "    .databunch(bs=48))\n",
    "data_lm.sanity_check()\n",
    "data_lm.save('wisesight_lm.pkl')"
   ]
  },
  {
   "cell_type": "code",
   "execution_count": 32,
   "metadata": {
    "colab": {
     "base_uri": "https://localhost:8080/",
     "height": 34
    },
    "colab_type": "code",
    "id": "8GiTvaHX6z6A",
    "outputId": "4ca15151-7db8-4bc8-d035-ddcbfc3383e1"
   },
   "outputs": [
    {
     "data": {
      "text/plain": [
       "(23823, 240)"
      ]
     },
     "execution_count": 32,
     "metadata": {
      "tags": []
     },
     "output_type": "execute_result"
    }
   ],
   "source": [
    "data_lm.sanity_check()\n",
    "len(data_lm.train_ds), len(data_lm.valid_ds)"
   ]
  },
  {
   "cell_type": "code",
   "execution_count": 33,
   "metadata": {
    "colab": {
     "base_uri": "https://localhost:8080/",
     "height": 1000
    },
    "colab_type": "code",
    "id": "Bm7PYDIC6z6E",
    "outputId": "f768001e-09ee-4572-ea48-ac9e38e7296a"
   },
   "outputs": [
    {
     "data": {
      "text/plain": [
       "LanguageLearner(data=TextLMDataBunch;\n",
       "\n",
       "Train: LabelList (23823 items)\n",
       "x: LMTextList\n",
       "xxbos   ประเทศ เรา ผลิต และ ส่งออก ยาสูบ เยอะ สุด ใน โลก จิง ป่าว คับ,xxbos   คะ,xxbos   อิ เหี้ย ออม ทำ กู อยาก กิน เอ็ม เค,xxbos   xxwrep 2 😅,xxbos   สวัสดี วัน พุธ   แนน   อะไร นะ\n",
       "y: LMLabelList\n",
       ",,,,\n",
       "Path: wisesight_data;\n",
       "\n",
       "Valid: LabelList (240 items)\n",
       "x: LMTextList\n",
       "xxbos   เห็น คน ลบ แอ พ   viu   ก็ เห็นใจ และ เข้าใจ เขา นะคะ   แผล มัน ยัง ใหม่ แถม อารมณ์ ยิ่ง โดน xxunk ง่าย อยู่ นี่ เนอะ 5   xxrep   7   ส่วน ทาง นี้ ก็ กอด   netflix   แน่น มาก   เธอ อย่า ทำร้าย เรา นะ   เรา รู้ เธอ ไม่ ทำร้าย เรา แน่นอน,xxbos   ไป ชม ไม้ คิว ของ แชมป์   และ รอง แชมป์   กัน จ้า !   .   xxrep   32   เก็บตก จาก การแข่งขัน   แสงโสม   สนุกเกอร์   6   แดง   โอเพ่น   ประจำปี   2560   สนาม ที่   2   ณ   มัง กี้   สนุกเกอร์   คลับ   ซอย โชค ชัย   4   ลาดพร้าว   เมื่อ วันที่   12   ต.ค. 60,xxbos   กลุ่ม รถ ซีวิค เป็น กลุ่ม ที่ น่า รำ คาน มาก   xxrep   9   อวด รถ กัน ได้ ทุก วินาที   อวด ทำไม มึง ก็ ใช้ รถ เหมือนกัน ทุกคน   ละ ก็ พวก xxunk ที่ บอ กว่า อวด รถ แต่ ถ่าย นม ตัวเอง ชัด ละ รถ เบลอ นี่ คือ ?   xxrep   5  ,xxbos   อยาก สวย เหมือน เจ้าของ แบรนด์ สิ คะ   เนย   โชติ กา   ใบหน้า สวย   ใส xxunk   แม้ แต่งหน้า   นี่ ขนาด เป็น คุณแม่ แล้ว นะเนี่ย ก็ ยัง สวย ไม่ xxunk   ผ่าน ไป กี่ ปี ๆ ก็ ไม่ เปลี่ยน   ผิว ดี๊ ดี   ความ สวย . เรา สร้าง เอง ได้ ด้วยตัวเอง   ถ้า ได้ ใช้ มาส ์กโช   ต้อง สวย เหมือน โชติ กา แน่นอน ค่ะ   #   มาส ์กโช สวย ข้ามคืน   #   cho _ cosmetics   #   daradaily   #   ดารา เดลี่,xxbos   ข้าว โถ ละ ร้อย   แพง   เพราะ ตัก เป็น จาน ๆ ละ 15   เต็มที่ ก็ 5 จาน   คนไทย ต้อง กินข้าว ประเทศ xxunk ข้าว   กินข้าว ในประเทศ ตัวเอง หม้อ เป็น ร้อย เป็นลม ดีกว่า ค่า ฉะ xxunk ถุง 5 โล ไม่ เกิน 200 เป็น ข้าว มะลิ   ไก่ นี่ ไม่รู้ ว่า เป็นตัว หรือเปล่า   แต่ ถ้า ตัว ละ 250 บาท แพง   ไก่ย่าง ขาย 140 - 160   มี เยอะแยะ ยัง ได้ กำไร   แพง สุด ไม่ ควร xxunk 200   ข้าวผัด ปู จาน ใหญ่   300 ร้อย แพง   ถ้า ผัด เป็น จาน ๆ ละ 50 ผัด 4 จาน ก็ เต็ม ถาด ใหญ่ แล้ว   ส่วน เครื่อง ดืม ด้านบน อะไร 80 ถ้า เป็น ชาเย็น แพง มาก   น้ำ ดืม ขวด ใหญ่ ขวด ละ 50 แพง   บ้าน เรา เมืองร้อน อย่า เห็นแก่ตัว 30 ก็ พอแล้ว   คน ต้อง ซื้อ เยอะ   เบียร์ ช้าง ขวด ละ 120   กำไร xxunk น่าเกลียด มา 3 ขวด 360 แพง   xxunk ขวด ใหญ่ ก็ แพง   แต่ น้ำแข็ง พอได้ เพราะ อากาศ บ้าน เรา ร้อน ละลาย ง่าย อันนี้ พอ เข้าใจ คน ขาย   แต่ ทะเล เผา ทะเล ลวก ไม่เห็น หน้าตา ว่า มี อะไร บ้าง ก็ กุ้ง หมึก ปู xxunk 300   ตัว กลางๆ ใส่ มา อย่าง 5 ตัว ปู สัก ตัว   กำไร xxunk   ตำ ทะเล ตำ กุ้ง สด 150 ไม่ แพง   กุ้ง ชุ ป แป้ง ทอด แพง มาก ๆ   ต้มยำ หม้อ ละ 300 ร้อย ถือว่า แพง มาก   เพราะ มัน ใส่ ได้ ไม่ เยอะ หรอก   มันดี ตรง ที่ มี น้ำ กับ ไฟ อุ่น ร้อน   ของ กินใน บ้าน ยัง แทบ แตะ ไม่ได้   ทั้งที่ ป ระ ก็ xxunk   คน ในประเทศ ยัง กิน ไม่ อิม ส่งออก นอก พอ มี น้อย เหลือ น้อย   ก็ ขาย ให้ กัน แพง ๆ   ระบบ แย่ เอาเปรียบ กันเอง   ที่ บ้าน ขาย อาหาร กับข้าว ตาม สั่ง ป รุ่ง สุก ใหม่   แค่ จาน ละ 100 - 150   คน ยัง ว่า แพง ทั้งที่ บอ กว่า อร่อย   ถ้า ไป เจอ แบบนี้ สงสัย ช็อค ตาย คา ร้าน เลย มัง   ถ้า ต้อง ไป เจอ ทั้ง แพง ทั้ง ไม่อร่อย สัก แต่ ทำ ขาย   ใคร ว่า ไม่ แพง ยินดี ด้วย ที่ คุณ เป็น คน มี ตัง   แต่ เรา มอง จาก ค่าแรง กลางๆ ของ คน ในประเทศ นะ   ซึ่ง ส่วนมาก คนใน ประเทศไทย ได้ แต่ ค่าแรงขั้นต่ำ กับ เบี้ย ขยัน เล็กน้อย   คนจน เยอะ กว่า คนรวย ด้วย   ทำ อะไร ต้อง นึกถึง ความ สมควร   นึกถึง กันและกัน   แต่ เรา ไม่ใช่ คน xxunk   ชอบ มอง และ คิด จาก ความเป็นจริง   ถึง ขาย ให้ ชาวต่างชาติ ก็ เถอะ   เหมือน คนไทย เอาเปรียบ ช่วย โอกาส และ ไม่ ค่อย xxunk\n",
       "y: LMLabelList\n",
       ",,,,\n",
       "Path: wisesight_data;\n",
       "\n",
       "Test: None, model=SequentialRNN(\n",
       "  (0): AWD_LSTM(\n",
       "    (encoder): Embedding(15000, 400, padding_idx=1)\n",
       "    (encoder_dp): EmbeddingDropout(\n",
       "      (emb): Embedding(15000, 400, padding_idx=1)\n",
       "    )\n",
       "    (rnns): ModuleList(\n",
       "      (0): WeightDropout(\n",
       "        (module): LSTM(400, 1550, batch_first=True)\n",
       "      )\n",
       "      (1): WeightDropout(\n",
       "        (module): LSTM(1550, 1550, batch_first=True)\n",
       "      )\n",
       "      (2): WeightDropout(\n",
       "        (module): LSTM(1550, 1550, batch_first=True)\n",
       "      )\n",
       "      (3): WeightDropout(\n",
       "        (module): LSTM(1550, 400, batch_first=True)\n",
       "      )\n",
       "    )\n",
       "    (input_dp): RNNDropout()\n",
       "    (hidden_dps): ModuleList(\n",
       "      (0): RNNDropout()\n",
       "      (1): RNNDropout()\n",
       "      (2): RNNDropout()\n",
       "      (3): RNNDropout()\n",
       "    )\n",
       "  )\n",
       "  (1): LinearDecoder(\n",
       "    (decoder): Linear(in_features=400, out_features=15000, bias=True)\n",
       "    (output_dp): RNNDropout()\n",
       "  )\n",
       "), opt_func=functools.partial(<class 'torch.optim.adam.Adam'>, betas=(0.9, 0.99)), loss_func=FlattenedLoss of CrossEntropyLoss(), metrics=[<function accuracy at 0x7f51be568268>], true_wd=True, bn_wd=True, wd=0.01, train_bn=True, path=PosixPath('wisesight_data'), model_dir='models', callback_fns=[functools.partial(<class 'fastai.basic_train.Recorder'>, add_time=True, silent=False), functools.partial(<class 'fastai.train.GradientClipping'>, clip=0.12)], callbacks=[RNNTrainer\n",
       "learn: LanguageLearner(data=TextLMDataBunch;\n",
       "\n",
       "Train: LabelList (23823 items)\n",
       "x: LMTextList\n",
       "xxbos   ประเทศ เรา ผลิต และ ส่งออก ยาสูบ เยอะ สุด ใน โลก จิง ป่าว คับ,xxbos   คะ,xxbos   อิ เหี้ย ออม ทำ กู อยาก กิน เอ็ม เค,xxbos   xxwrep 2 😅,xxbos   สวัสดี วัน พุธ   แนน   อะไร นะ\n",
       "y: LMLabelList\n",
       ",,,,\n",
       "Path: wisesight_data;\n",
       "\n",
       "Valid: LabelList (240 items)\n",
       "x: LMTextList\n",
       "xxbos   เห็น คน ลบ แอ พ   viu   ก็ เห็นใจ และ เข้าใจ เขา นะคะ   แผล มัน ยัง ใหม่ แถม อารมณ์ ยิ่ง โดน xxunk ง่าย อยู่ นี่ เนอะ 5   xxrep   7   ส่วน ทาง นี้ ก็ กอด   netflix   แน่น มาก   เธอ อย่า ทำร้าย เรา นะ   เรา รู้ เธอ ไม่ ทำร้าย เรา แน่นอน,xxbos   ไป ชม ไม้ คิว ของ แชมป์   และ รอง แชมป์   กัน จ้า !   .   xxrep   32   เก็บตก จาก การแข่งขัน   แสงโสม   สนุกเกอร์   6   แดง   โอเพ่น   ประจำปี   2560   สนาม ที่   2   ณ   มัง กี้   สนุกเกอร์   คลับ   ซอย โชค ชัย   4   ลาดพร้าว   เมื่อ วันที่   12   ต.ค. 60,xxbos   กลุ่ม รถ ซีวิค เป็น กลุ่ม ที่ น่า รำ คาน มาก   xxrep   9   อวด รถ กัน ได้ ทุก วินาที   อวด ทำไม มึง ก็ ใช้ รถ เหมือนกัน ทุกคน   ละ ก็ พวก xxunk ที่ บอ กว่า อวด รถ แต่ ถ่าย นม ตัวเอง ชัด ละ รถ เบลอ นี่ คือ ?   xxrep   5  ,xxbos   อยาก สวย เหมือน เจ้าของ แบรนด์ สิ คะ   เนย   โชติ กา   ใบหน้า สวย   ใส xxunk   แม้ แต่งหน้า   นี่ ขนาด เป็น คุณแม่ แล้ว นะเนี่ย ก็ ยัง สวย ไม่ xxunk   ผ่าน ไป กี่ ปี ๆ ก็ ไม่ เปลี่ยน   ผิว ดี๊ ดี   ความ สวย . เรา สร้าง เอง ได้ ด้วยตัวเอง   ถ้า ได้ ใช้ มาส ์กโช   ต้อง สวย เหมือน โชติ กา แน่นอน ค่ะ   #   มาส ์กโช สวย ข้ามคืน   #   cho _ cosmetics   #   daradaily   #   ดารา เดลี่,xxbos   ข้าว โถ ละ ร้อย   แพง   เพราะ ตัก เป็น จาน ๆ ละ 15   เต็มที่ ก็ 5 จาน   คนไทย ต้อง กินข้าว ประเทศ xxunk ข้าว   กินข้าว ในประเทศ ตัวเอง หม้อ เป็น ร้อย เป็นลม ดีกว่า ค่า ฉะ xxunk ถุง 5 โล ไม่ เกิน 200 เป็น ข้าว มะลิ   ไก่ นี่ ไม่รู้ ว่า เป็นตัว หรือเปล่า   แต่ ถ้า ตัว ละ 250 บาท แพง   ไก่ย่าง ขาย 140 - 160   มี เยอะแยะ ยัง ได้ กำไร   แพง สุด ไม่ ควร xxunk 200   ข้าวผัด ปู จาน ใหญ่   300 ร้อย แพง   ถ้า ผัด เป็น จาน ๆ ละ 50 ผัด 4 จาน ก็ เต็ม ถาด ใหญ่ แล้ว   ส่วน เครื่อง ดืม ด้านบน อะไร 80 ถ้า เป็น ชาเย็น แพง มาก   น้ำ ดืม ขวด ใหญ่ ขวด ละ 50 แพง   บ้าน เรา เมืองร้อน อย่า เห็นแก่ตัว 30 ก็ พอแล้ว   คน ต้อง ซื้อ เยอะ   เบียร์ ช้าง ขวด ละ 120   กำไร xxunk น่าเกลียด มา 3 ขวด 360 แพง   xxunk ขวด ใหญ่ ก็ แพง   แต่ น้ำแข็ง พอได้ เพราะ อากาศ บ้าน เรา ร้อน ละลาย ง่าย อันนี้ พอ เข้าใจ คน ขาย   แต่ ทะเล เผา ทะเล ลวก ไม่เห็น หน้าตา ว่า มี อะไร บ้าง ก็ กุ้ง หมึก ปู xxunk 300   ตัว กลางๆ ใส่ มา อย่าง 5 ตัว ปู สัก ตัว   กำไร xxunk   ตำ ทะเล ตำ กุ้ง สด 150 ไม่ แพง   กุ้ง ชุ ป แป้ง ทอด แพง มาก ๆ   ต้มยำ หม้อ ละ 300 ร้อย ถือว่า แพง มาก   เพราะ มัน ใส่ ได้ ไม่ เยอะ หรอก   มันดี ตรง ที่ มี น้ำ กับ ไฟ อุ่น ร้อน   ของ กินใน บ้าน ยัง แทบ แตะ ไม่ได้   ทั้งที่ ป ระ ก็ xxunk   คน ในประเทศ ยัง กิน ไม่ อิม ส่งออก นอก พอ มี น้อย เหลือ น้อย   ก็ ขาย ให้ กัน แพง ๆ   ระบบ แย่ เอาเปรียบ กันเอง   ที่ บ้าน ขาย อาหาร กับข้าว ตาม สั่ง ป รุ่ง สุก ใหม่   แค่ จาน ละ 100 - 150   คน ยัง ว่า แพง ทั้งที่ บอ กว่า อร่อย   ถ้า ไป เจอ แบบนี้ สงสัย ช็อค ตาย คา ร้าน เลย มัง   ถ้า ต้อง ไป เจอ ทั้ง แพง ทั้ง ไม่อร่อย สัก แต่ ทำ ขาย   ใคร ว่า ไม่ แพง ยินดี ด้วย ที่ คุณ เป็น คน มี ตัง   แต่ เรา มอง จาก ค่าแรง กลางๆ ของ คน ในประเทศ นะ   ซึ่ง ส่วนมาก คนใน ประเทศไทย ได้ แต่ ค่าแรงขั้นต่ำ กับ เบี้ย ขยัน เล็กน้อย   คนจน เยอะ กว่า คนรวย ด้วย   ทำ อะไร ต้อง นึกถึง ความ สมควร   นึกถึง กันและกัน   แต่ เรา ไม่ใช่ คน xxunk   ชอบ มอง และ คิด จาก ความเป็นจริง   ถึง ขาย ให้ ชาวต่างชาติ ก็ เถอะ   เหมือน คนไทย เอาเปรียบ ช่วย โอกาส และ ไม่ ค่อย xxunk\n",
       "y: LMLabelList\n",
       ",,,,\n",
       "Path: wisesight_data;\n",
       "\n",
       "Test: None, model=SequentialRNN(\n",
       "  (0): AWD_LSTM(\n",
       "    (encoder): Embedding(15000, 400, padding_idx=1)\n",
       "    (encoder_dp): EmbeddingDropout(\n",
       "      (emb): Embedding(15000, 400, padding_idx=1)\n",
       "    )\n",
       "    (rnns): ModuleList(\n",
       "      (0): WeightDropout(\n",
       "        (module): LSTM(400, 1550, batch_first=True)\n",
       "      )\n",
       "      (1): WeightDropout(\n",
       "        (module): LSTM(1550, 1550, batch_first=True)\n",
       "      )\n",
       "      (2): WeightDropout(\n",
       "        (module): LSTM(1550, 1550, batch_first=True)\n",
       "      )\n",
       "      (3): WeightDropout(\n",
       "        (module): LSTM(1550, 400, batch_first=True)\n",
       "      )\n",
       "    )\n",
       "    (input_dp): RNNDropout()\n",
       "    (hidden_dps): ModuleList(\n",
       "      (0): RNNDropout()\n",
       "      (1): RNNDropout()\n",
       "      (2): RNNDropout()\n",
       "      (3): RNNDropout()\n",
       "    )\n",
       "  )\n",
       "  (1): LinearDecoder(\n",
       "    (decoder): Linear(in_features=400, out_features=15000, bias=True)\n",
       "    (output_dp): RNNDropout()\n",
       "  )\n",
       "), opt_func=functools.partial(<class 'torch.optim.adam.Adam'>, betas=(0.9, 0.99)), loss_func=FlattenedLoss of CrossEntropyLoss(), metrics=[<function accuracy at 0x7f51be568268>], true_wd=True, bn_wd=True, wd=0.01, train_bn=True, path=PosixPath('wisesight_data'), model_dir='models', callback_fns=[functools.partial(<class 'fastai.basic_train.Recorder'>, add_time=True, silent=False), functools.partial(<class 'fastai.train.GradientClipping'>, clip=0.12)], callbacks=[...], layer_groups=[Sequential(\n",
       "  (0): WeightDropout(\n",
       "    (module): LSTM(400, 1550, batch_first=True)\n",
       "  )\n",
       "  (1): RNNDropout()\n",
       "), Sequential(\n",
       "  (0): WeightDropout(\n",
       "    (module): LSTM(1550, 1550, batch_first=True)\n",
       "  )\n",
       "  (1): RNNDropout()\n",
       "), Sequential(\n",
       "  (0): WeightDropout(\n",
       "    (module): LSTM(1550, 1550, batch_first=True)\n",
       "  )\n",
       "  (1): RNNDropout()\n",
       "), Sequential(\n",
       "  (0): WeightDropout(\n",
       "    (module): LSTM(1550, 400, batch_first=True)\n",
       "  )\n",
       "  (1): RNNDropout()\n",
       "), Sequential(\n",
       "  (0): Embedding(15000, 400, padding_idx=1)\n",
       "  (1): EmbeddingDropout(\n",
       "    (emb): Embedding(15000, 400, padding_idx=1)\n",
       "  )\n",
       "  (2): LinearDecoder(\n",
       "    (decoder): Linear(in_features=400, out_features=15000, bias=True)\n",
       "    (output_dp): RNNDropout()\n",
       "  )\n",
       ")], add_time=True, silent=False, cb_fns_registered=False)\n",
       "alpha: 2\n",
       "beta: 1], layer_groups=[Sequential(\n",
       "  (0): WeightDropout(\n",
       "    (module): LSTM(400, 1550, batch_first=True)\n",
       "  )\n",
       "  (1): RNNDropout()\n",
       "), Sequential(\n",
       "  (0): WeightDropout(\n",
       "    (module): LSTM(1550, 1550, batch_first=True)\n",
       "  )\n",
       "  (1): RNNDropout()\n",
       "), Sequential(\n",
       "  (0): WeightDropout(\n",
       "    (module): LSTM(1550, 1550, batch_first=True)\n",
       "  )\n",
       "  (1): RNNDropout()\n",
       "), Sequential(\n",
       "  (0): WeightDropout(\n",
       "    (module): LSTM(1550, 400, batch_first=True)\n",
       "  )\n",
       "  (1): RNNDropout()\n",
       "), Sequential(\n",
       "  (0): Embedding(15000, 400, padding_idx=1)\n",
       "  (1): EmbeddingDropout(\n",
       "    (emb): Embedding(15000, 400, padding_idx=1)\n",
       "  )\n",
       "  (2): LinearDecoder(\n",
       "    (decoder): Linear(in_features=400, out_features=15000, bias=True)\n",
       "    (output_dp): RNNDropout()\n",
       "  )\n",
       ")], add_time=True, silent=False, cb_fns_registered=False)"
      ]
     },
     "execution_count": 33,
     "metadata": {
      "tags": []
     },
     "output_type": "execute_result"
    }
   ],
   "source": [
    "config = dict(emb_sz=400, n_hid=1550, n_layers=4, pad_token=1, qrnn=False, tie_weights=True, out_bias=True,\n",
    "             output_p=0.25, hidden_p=0.1, input_p=0.2, embed_p=0.02, weight_p=0.15)\n",
    "trn_args = dict(drop_mult=1., clip=0.12, alpha=2, beta=1)\n",
    "\n",
    "learn = language_model_learner(data_lm, AWD_LSTM, config=config, pretrained=False, **trn_args)\n",
    "\n",
    "#load pretrained models\n",
    "learn.load_pretrained(**_THWIKI_LSTM)"
   ]
  },
  {
   "cell_type": "code",
   "execution_count": 34,
   "metadata": {
    "colab": {
     "base_uri": "https://localhost:8080/",
     "height": 97
    },
    "colab_type": "code",
    "id": "uJK68vJT6z6G",
    "outputId": "9bde3724-568f-4630-afb7-df40b3aff0d4"
   },
   "outputs": [
    {
     "name": "stdout",
     "output_type": "stream",
     "text": [
      "training frozen\n"
     ]
    },
    {
     "data": {
      "text/html": [
       "<table border=\"1\" class=\"dataframe\">\n",
       "  <thead>\n",
       "    <tr style=\"text-align: left;\">\n",
       "      <th>epoch</th>\n",
       "      <th>train_loss</th>\n",
       "      <th>valid_loss</th>\n",
       "      <th>accuracy</th>\n",
       "      <th>time</th>\n",
       "    </tr>\n",
       "  </thead>\n",
       "  <tbody>\n",
       "    <tr>\n",
       "      <td>0</td>\n",
       "      <td>4.841187</td>\n",
       "      <td>4.462714</td>\n",
       "      <td>0.319742</td>\n",
       "      <td>02:47</td>\n",
       "    </tr>\n",
       "  </tbody>\n",
       "</table>"
      ],
      "text/plain": [
       "<IPython.core.display.HTML object>"
      ]
     },
     "metadata": {
      "tags": []
     },
     "output_type": "display_data"
    }
   ],
   "source": [
    "#train frozen\n",
    "print(\"training frozen\")\n",
    "learn.freeze_to(-1)\n",
    "learn.fit_one_cycle(1, 1e-2, moms=(0.8, 0.7))"
   ]
  },
  {
   "cell_type": "code",
   "execution_count": 35,
   "metadata": {
    "colab": {
     "base_uri": "https://localhost:8080/",
     "height": 221
    },
    "colab_type": "code",
    "id": "axooWmsg6z6I",
    "outputId": "819107f9-5d37-49ef-dac6-7cde4204656b"
   },
   "outputs": [
    {
     "name": "stdout",
     "output_type": "stream",
     "text": [
      "training unfrozen\n"
     ]
    },
    {
     "data": {
      "text/html": [
       "<table border=\"1\" class=\"dataframe\">\n",
       "  <thead>\n",
       "    <tr style=\"text-align: left;\">\n",
       "      <th>epoch</th>\n",
       "      <th>train_loss</th>\n",
       "      <th>valid_loss</th>\n",
       "      <th>accuracy</th>\n",
       "      <th>time</th>\n",
       "    </tr>\n",
       "  </thead>\n",
       "  <tbody>\n",
       "    <tr>\n",
       "      <td>0</td>\n",
       "      <td>4.411834</td>\n",
       "      <td>4.205552</td>\n",
       "      <td>0.341766</td>\n",
       "      <td>03:31</td>\n",
       "    </tr>\n",
       "    <tr>\n",
       "      <td>1</td>\n",
       "      <td>4.178030</td>\n",
       "      <td>4.037095</td>\n",
       "      <td>0.361508</td>\n",
       "      <td>03:31</td>\n",
       "    </tr>\n",
       "    <tr>\n",
       "      <td>2</td>\n",
       "      <td>3.970388</td>\n",
       "      <td>3.930919</td>\n",
       "      <td>0.370139</td>\n",
       "      <td>03:31</td>\n",
       "    </tr>\n",
       "    <tr>\n",
       "      <td>3</td>\n",
       "      <td>3.756190</td>\n",
       "      <td>3.890398</td>\n",
       "      <td>0.376191</td>\n",
       "      <td>03:31</td>\n",
       "    </tr>\n",
       "    <tr>\n",
       "      <td>4</td>\n",
       "      <td>3.671704</td>\n",
       "      <td>3.890232</td>\n",
       "      <td>0.375595</td>\n",
       "      <td>03:31</td>\n",
       "    </tr>\n",
       "  </tbody>\n",
       "</table>"
      ],
      "text/plain": [
       "<IPython.core.display.HTML object>"
      ]
     },
     "metadata": {
      "tags": []
     },
     "output_type": "display_data"
    }
   ],
   "source": [
    "#train unfrozen\n",
    "print(\"training unfrozen\")\n",
    "learn.unfreeze()\n",
    "learn.fit_one_cycle(5, 1e-3, moms=(0.8, 0.7))"
   ]
  },
  {
   "cell_type": "code",
   "execution_count": 0,
   "metadata": {
    "colab": {},
    "colab_type": "code",
    "id": "OZC4BGnB6z6L"
   },
   "outputs": [],
   "source": [
    "# learn.save('wisesight_lm')\n",
    "learn.save_encoder(\"wisesight_enc\")"
   ]
  },
  {
   "cell_type": "markdown",
   "metadata": {
    "colab_type": "text",
    "id": "hTTQ76Ls6z6N"
   },
   "source": [
    "### Train Text Classifier"
   ]
  },
  {
   "cell_type": "code",
   "execution_count": 39,
   "metadata": {
    "colab": {
     "base_uri": "https://localhost:8080/",
     "height": 34
    },
    "colab_type": "code",
    "id": "A2Z09Mf26z6N",
    "outputId": "27cfec82-23e3-4e0b-dd0d-7b4ba855e646"
   },
   "outputs": [
    {
     "name": "stdout",
     "output_type": "stream",
     "text": [
      "15000\n"
     ]
    }
   ],
   "source": [
    "#lm data\n",
    "data_lm = load_data(model_path, \"wisesight_lm.pkl\")\n",
    "data_lm.sanity_check()\n",
    "\n",
    "#classification data\n",
    "tt = Tokenizer(tok_func=ThaiTokenizer, lang=\"th\", pre_rules=pre_rules_th, post_rules=post_rules_th)\n",
    "processor = [TokenizeProcessor(tokenizer=tt, chunksize=10000, mark_fields=False),\n",
    "            NumericalizeProcessor(vocab=data_lm.vocab, max_vocab=60000, min_freq=20)]\n",
    "\n",
    "data_cls = (ItemLists(model_path,train=TextList.from_df(train_df, model_path, cols=[\"texts\"], processor=processor),\n",
    "                     valid=TextList.from_df(valid_df, model_path, cols=[\"texts\"], processor=processor))\n",
    "    .label_from_df(\"category\")\n",
    "    .databunch(bs=50)\n",
    "    )\n",
    "data_cls.sanity_check()\n",
    "print(len(data_cls.vocab.itos))"
   ]
  },
  {
   "cell_type": "code",
   "execution_count": 40,
   "metadata": {
    "colab": {
     "base_uri": "https://localhost:8080/",
     "height": 1000
    },
    "colab_type": "code",
    "id": "RjRFWx8-6z6P",
    "outputId": "76a4bb55-a3cd-4d51-d5fc-6c2fec878573"
   },
   "outputs": [
    {
     "data": {
      "text/plain": [
       "RNNLearner(data=TextClasDataBunch;\n",
       "\n",
       "Train: LabelList (20453 items)\n",
       "x: TextList\n",
       "xxbos   กันแดด คิว เพลส ตัวใหม่ นี่ คุม มัน ดีจริง อ่ะ   นี่ หน้า มัน   ยิ่ง ที โซน ยิ่ง มัน เยอะ   นีเวีย หลอด ยาว ๆ ฝา เขียว ก็ เอา ไม่อยู่ อ่ะ   แล้ว xxunk,xxbos   พบ กับ การ ร่วม ตัว ของ ศิลปิน   soul   pop   สาม ยุค   สาม สไตล์   ใน งาน   jamnight   อะไร ก็ช่าง xxunk   ( ชุ่ย )   นำ ทีม โดย   soul   after   six ,   the   parkinson   และ   the   xxup toys   งาน นี้ นอกจาก จะ ได้ ดู โชว์ แบบ เต็ม รูปแบบ จาก ทั้ง สาม วง แล้ว   ยัง มี โชว์ สุด พิเศษ ที่ ทั้ง สาม จะ ร่วม แจม กัน ด้วย   ไม่ อยาก ให้ พลาด   เจอกัน วันที่   29   กันยายน นี้ ที่ ช่าง ชุ่ย   ประตู เปิด   19.00   น. เป็นต้นไป   สามารถ ซื้อ บัตร ได้ แล้ว ที่   event   pop :   http :   /   /   go . eventpop . me   /   jamnight   * จำกัด ผู้ ที่ มีอายุ   20   ปี ขึ้นไป   #   jamnightbyjameson   #   jamesonthailand   #   soulaftersix   #   theparkinson   #   thetoys,xxbos   👌 🏻 👌 🏻 👌 🏻 xxwrep 2 😆,xxbos   จ - ศ   แถม ถึง   29   ไม่ทัน มะ ว้า   xxrep   4  ,xxbos   ใช้ ดี ค่ะ   บอกต่อ   คือ เป็น คน แพ้ ง่าย มาก กก   ใช้ กา นิ เย หรือ พอน ก็ แพ้   แต่ ใช้ ครีม แตงโม แล้ว คือ ดี   สิว ลด   กันน้ำ ค่ะ   นี้ ใช้ ไป เล่น สงกรานต์ มา   รอด ค่ะ 555   เล่อ ค่า   xxrep   5  \n",
       "y: CategoryList\n",
       "neg,neu,neu,neu,neg\n",
       "Path: wisesight_data;\n",
       "\n",
       "Valid: LabelList (3610 items)\n",
       "x: TextList\n",
       "xxbos   เห็น คน ลบ แอ พ   viu   ก็ เห็นใจ และ เข้าใจ เขา นะคะ   แผล มัน ยัง ใหม่ แถม อารมณ์ ยิ่ง โดน xxunk ง่าย อยู่ นี่ เนอะ 5   xxrep   7   ส่วน ทาง นี้ ก็ กอด   netflix   แน่น มาก   เธอ อย่า ทำร้าย เรา นะ   เรา รู้ เธอ ไม่ ทำร้าย เรา แน่นอน,xxbos   ไป ชม ไม้ คิว ของ แชมป์   และ รอง แชมป์   กัน จ้า !   .   xxrep   32   เก็บตก จาก การแข่งขัน   แสงโสม   สนุกเกอร์   6   แดง   โอเพ่น   ประจำปี   2560   สนาม ที่   2   ณ   มัง กี้   สนุกเกอร์   คลับ   ซอย โชค ชัย   4   ลาดพร้าว   เมื่อ วันที่   12   ต.ค. 60,xxbos   กลุ่ม รถ ซีวิค เป็น กลุ่ม ที่ น่า รำ คาน มาก   xxrep   9   อวด รถ กัน ได้ ทุก วินาที   อวด ทำไม มึง ก็ ใช้ รถ เหมือนกัน ทุกคน   ละ ก็ พวก xxunk ที่ บอ กว่า อวด รถ แต่ ถ่าย นม ตัวเอง ชัด ละ รถ เบลอ นี่ คือ ?   xxrep   5  ,xxbos   อยาก สวย เหมือน เจ้าของ แบรนด์ สิ คะ   เนย   โชติ กา   ใบหน้า สวย   ใส xxunk   แม้ แต่งหน้า   นี่ ขนาด เป็น คุณแม่ แล้ว นะเนี่ย ก็ ยัง สวย ไม่ xxunk   ผ่าน ไป กี่ ปี ๆ ก็ ไม่ เปลี่ยน   ผิว ดี๊ ดี   ความ สวย . เรา สร้าง เอง ได้ ด้วยตัวเอง   ถ้า ได้ ใช้ มาส ์กโช   ต้อง สวย เหมือน โชติ กา แน่นอน ค่ะ   #   มาส ์กโช สวย ข้ามคืน   #   cho _ cosmetics   #   daradaily   #   ดารา เดลี่,xxbos   ข้าว โถ ละ ร้อย   แพง   เพราะ ตัก เป็น จาน ๆ ละ 15   เต็มที่ ก็ 5 จาน   คนไทย ต้อง กินข้าว ประเทศ xxunk ข้าว   กินข้าว ในประเทศ ตัวเอง หม้อ เป็น ร้อย เป็นลม ดีกว่า ค่า ฉะ xxunk ถุง 5 โล ไม่ เกิน 200 เป็น ข้าว มะลิ   ไก่ นี่ ไม่รู้ ว่า เป็นตัว หรือเปล่า   แต่ ถ้า ตัว ละ 250 บาท แพง   ไก่ย่าง ขาย 140 - 160   มี เยอะแยะ ยัง ได้ กำไร   แพง สุด ไม่ ควร xxunk 200   ข้าวผัด ปู จาน ใหญ่   300 ร้อย แพง   ถ้า ผัด เป็น จาน ๆ ละ 50 ผัด 4 จาน ก็ เต็ม ถาด ใหญ่ แล้ว   ส่วน เครื่อง ดืม ด้านบน อะไร 80 ถ้า เป็น ชาเย็น แพง มาก   น้ำ ดืม ขวด ใหญ่ ขวด ละ 50 แพง   บ้าน เรา เมืองร้อน อย่า เห็นแก่ตัว 30 ก็ พอแล้ว   คน ต้อง ซื้อ เยอะ   เบียร์ ช้าง ขวด ละ 120   กำไร xxunk น่าเกลียด มา 3 ขวด 360 แพง   xxunk ขวด ใหญ่ ก็ แพง   แต่ น้ำแข็ง พอได้ เพราะ อากาศ บ้าน เรา ร้อน ละลาย ง่าย อันนี้ พอ เข้าใจ คน ขาย   แต่ ทะเล เผา ทะเล ลวก ไม่เห็น หน้าตา ว่า มี อะไร บ้าง ก็ กุ้ง หมึก ปู xxunk 300   ตัว กลางๆ ใส่ มา อย่าง 5 ตัว ปู สัก ตัว   กำไร xxunk   ตำ ทะเล ตำ กุ้ง สด 150 ไม่ แพง   กุ้ง ชุ ป แป้ง ทอด แพง มาก ๆ   ต้มยำ หม้อ ละ 300 ร้อย ถือว่า แพง มาก   เพราะ มัน ใส่ ได้ ไม่ เยอะ หรอก   มันดี ตรง ที่ มี น้ำ กับ ไฟ อุ่น ร้อน   ของ กินใน บ้าน ยัง แทบ แตะ ไม่ได้   ทั้งที่ ป ระ ก็ xxunk   คน ในประเทศ ยัง กิน ไม่ อิม ส่งออก นอก พอ มี น้อย เหลือ น้อย   ก็ ขาย ให้ กัน แพง ๆ   ระบบ แย่ เอาเปรียบ กันเอง   ที่ บ้าน ขาย อาหาร กับข้าว ตาม สั่ง ป รุ่ง สุก ใหม่   แค่ จาน ละ 100 - 150   คน ยัง ว่า แพง ทั้งที่ บอ กว่า อร่อย   ถ้า ไป เจอ แบบนี้ สงสัย ช็อค ตาย คา ร้าน เลย มัง   ถ้า ต้อง ไป เจอ ทั้ง แพง ทั้ง ไม่อร่อย สัก แต่ ทำ ขาย   ใคร ว่า ไม่ แพง ยินดี ด้วย ที่ คุณ เป็น คน มี ตัง   แต่ เรา มอง จาก ค่าแรง กลางๆ ของ คน ในประเทศ นะ   ซึ่ง ส่วนมาก คนใน ประเทศไทย ได้ แต่ ค่าแรงขั้นต่ำ กับ เบี้ย ขยัน เล็กน้อย   คนจน เยอะ กว่า คนรวย ด้วย   ทำ อะไร ต้อง นึกถึง ความ สมควร   นึกถึง กันและกัน   แต่ เรา ไม่ใช่ คน xxunk   ชอบ มอง และ คิด จาก ความเป็นจริง   ถึง ขาย ให้ ชาวต่างชาติ ก็ เถอะ   เหมือน คนไทย เอาเปรียบ ช่วย โอกาส และ ไม่ ค่อย xxunk\n",
       "y: CategoryList\n",
       "neu,neu,neg,neu,neg\n",
       "Path: wisesight_data;\n",
       "\n",
       "Test: None, model=SequentialRNN(\n",
       "  (0): MultiBatchEncoder(\n",
       "    (module): AWD_LSTM(\n",
       "      (encoder): Embedding(15000, 400, padding_idx=1)\n",
       "      (encoder_dp): EmbeddingDropout(\n",
       "        (emb): Embedding(15000, 400, padding_idx=1)\n",
       "      )\n",
       "      (rnns): ModuleList(\n",
       "        (0): WeightDropout(\n",
       "          (module): LSTM(400, 1550, batch_first=True)\n",
       "        )\n",
       "        (1): WeightDropout(\n",
       "          (module): LSTM(1550, 1550, batch_first=True)\n",
       "        )\n",
       "        (2): WeightDropout(\n",
       "          (module): LSTM(1550, 1550, batch_first=True)\n",
       "        )\n",
       "        (3): WeightDropout(\n",
       "          (module): LSTM(1550, 400, batch_first=True)\n",
       "        )\n",
       "      )\n",
       "      (input_dp): RNNDropout()\n",
       "      (hidden_dps): ModuleList(\n",
       "        (0): RNNDropout()\n",
       "        (1): RNNDropout()\n",
       "        (2): RNNDropout()\n",
       "        (3): RNNDropout()\n",
       "      )\n",
       "    )\n",
       "  )\n",
       "  (1): PoolingLinearClassifier(\n",
       "    (layers): Sequential(\n",
       "      (0): BatchNorm1d(1200, eps=1e-05, momentum=0.1, affine=True, track_running_stats=True)\n",
       "      (1): Dropout(p=0.27999999999999997)\n",
       "      (2): Linear(in_features=1200, out_features=50, bias=True)\n",
       "      (3): ReLU(inplace)\n",
       "      (4): BatchNorm1d(50, eps=1e-05, momentum=0.1, affine=True, track_running_stats=True)\n",
       "      (5): Dropout(p=0.1)\n",
       "      (6): Linear(in_features=50, out_features=4, bias=True)\n",
       "    )\n",
       "  )\n",
       "), opt_func=functools.partial(<class 'torch.optim.adam.Adam'>, betas=(0.9, 0.99)), loss_func=FlattenedLoss of CrossEntropyLoss(), metrics=[<function accuracy at 0x7f51be568268>], true_wd=True, bn_wd=True, wd=0.01, train_bn=True, path=PosixPath('wisesight_data'), model_dir='models', callback_fns=[functools.partial(<class 'fastai.basic_train.Recorder'>, add_time=True, silent=False)], callbacks=[RNNTrainer\n",
       "learn: RNNLearner(data=TextClasDataBunch;\n",
       "\n",
       "Train: LabelList (20453 items)\n",
       "x: TextList\n",
       "xxbos   กันแดด คิว เพลส ตัวใหม่ นี่ คุม มัน ดีจริง อ่ะ   นี่ หน้า มัน   ยิ่ง ที โซน ยิ่ง มัน เยอะ   นีเวีย หลอด ยาว ๆ ฝา เขียว ก็ เอา ไม่อยู่ อ่ะ   แล้ว xxunk,xxbos   พบ กับ การ ร่วม ตัว ของ ศิลปิน   soul   pop   สาม ยุค   สาม สไตล์   ใน งาน   jamnight   อะไร ก็ช่าง xxunk   ( ชุ่ย )   นำ ทีม โดย   soul   after   six ,   the   parkinson   และ   the   xxup toys   งาน นี้ นอกจาก จะ ได้ ดู โชว์ แบบ เต็ม รูปแบบ จาก ทั้ง สาม วง แล้ว   ยัง มี โชว์ สุด พิเศษ ที่ ทั้ง สาม จะ ร่วม แจม กัน ด้วย   ไม่ อยาก ให้ พลาด   เจอกัน วันที่   29   กันยายน นี้ ที่ ช่าง ชุ่ย   ประตู เปิด   19.00   น. เป็นต้นไป   สามารถ ซื้อ บัตร ได้ แล้ว ที่   event   pop :   http :   /   /   go . eventpop . me   /   jamnight   * จำกัด ผู้ ที่ มีอายุ   20   ปี ขึ้นไป   #   jamnightbyjameson   #   jamesonthailand   #   soulaftersix   #   theparkinson   #   thetoys,xxbos   👌 🏻 👌 🏻 👌 🏻 xxwrep 2 😆,xxbos   จ - ศ   แถม ถึง   29   ไม่ทัน มะ ว้า   xxrep   4  ,xxbos   ใช้ ดี ค่ะ   บอกต่อ   คือ เป็น คน แพ้ ง่าย มาก กก   ใช้ กา นิ เย หรือ พอน ก็ แพ้   แต่ ใช้ ครีม แตงโม แล้ว คือ ดี   สิว ลด   กันน้ำ ค่ะ   นี้ ใช้ ไป เล่น สงกรานต์ มา   รอด ค่ะ 555   เล่อ ค่า   xxrep   5  \n",
       "y: CategoryList\n",
       "neg,neu,neu,neu,neg\n",
       "Path: wisesight_data;\n",
       "\n",
       "Valid: LabelList (3610 items)\n",
       "x: TextList\n",
       "xxbos   เห็น คน ลบ แอ พ   viu   ก็ เห็นใจ และ เข้าใจ เขา นะคะ   แผล มัน ยัง ใหม่ แถม อารมณ์ ยิ่ง โดน xxunk ง่าย อยู่ นี่ เนอะ 5   xxrep   7   ส่วน ทาง นี้ ก็ กอด   netflix   แน่น มาก   เธอ อย่า ทำร้าย เรา นะ   เรา รู้ เธอ ไม่ ทำร้าย เรา แน่นอน,xxbos   ไป ชม ไม้ คิว ของ แชมป์   และ รอง แชมป์   กัน จ้า !   .   xxrep   32   เก็บตก จาก การแข่งขัน   แสงโสม   สนุกเกอร์   6   แดง   โอเพ่น   ประจำปี   2560   สนาม ที่   2   ณ   มัง กี้   สนุกเกอร์   คลับ   ซอย โชค ชัย   4   ลาดพร้าว   เมื่อ วันที่   12   ต.ค. 60,xxbos   กลุ่ม รถ ซีวิค เป็น กลุ่ม ที่ น่า รำ คาน มาก   xxrep   9   อวด รถ กัน ได้ ทุก วินาที   อวด ทำไม มึง ก็ ใช้ รถ เหมือนกัน ทุกคน   ละ ก็ พวก xxunk ที่ บอ กว่า อวด รถ แต่ ถ่าย นม ตัวเอง ชัด ละ รถ เบลอ นี่ คือ ?   xxrep   5  ,xxbos   อยาก สวย เหมือน เจ้าของ แบรนด์ สิ คะ   เนย   โชติ กา   ใบหน้า สวย   ใส xxunk   แม้ แต่งหน้า   นี่ ขนาด เป็น คุณแม่ แล้ว นะเนี่ย ก็ ยัง สวย ไม่ xxunk   ผ่าน ไป กี่ ปี ๆ ก็ ไม่ เปลี่ยน   ผิว ดี๊ ดี   ความ สวย . เรา สร้าง เอง ได้ ด้วยตัวเอง   ถ้า ได้ ใช้ มาส ์กโช   ต้อง สวย เหมือน โชติ กา แน่นอน ค่ะ   #   มาส ์กโช สวย ข้ามคืน   #   cho _ cosmetics   #   daradaily   #   ดารา เดลี่,xxbos   ข้าว โถ ละ ร้อย   แพง   เพราะ ตัก เป็น จาน ๆ ละ 15   เต็มที่ ก็ 5 จาน   คนไทย ต้อง กินข้าว ประเทศ xxunk ข้าว   กินข้าว ในประเทศ ตัวเอง หม้อ เป็น ร้อย เป็นลม ดีกว่า ค่า ฉะ xxunk ถุง 5 โล ไม่ เกิน 200 เป็น ข้าว มะลิ   ไก่ นี่ ไม่รู้ ว่า เป็นตัว หรือเปล่า   แต่ ถ้า ตัว ละ 250 บาท แพง   ไก่ย่าง ขาย 140 - 160   มี เยอะแยะ ยัง ได้ กำไร   แพง สุด ไม่ ควร xxunk 200   ข้าวผัด ปู จาน ใหญ่   300 ร้อย แพง   ถ้า ผัด เป็น จาน ๆ ละ 50 ผัด 4 จาน ก็ เต็ม ถาด ใหญ่ แล้ว   ส่วน เครื่อง ดืม ด้านบน อะไร 80 ถ้า เป็น ชาเย็น แพง มาก   น้ำ ดืม ขวด ใหญ่ ขวด ละ 50 แพง   บ้าน เรา เมืองร้อน อย่า เห็นแก่ตัว 30 ก็ พอแล้ว   คน ต้อง ซื้อ เยอะ   เบียร์ ช้าง ขวด ละ 120   กำไร xxunk น่าเกลียด มา 3 ขวด 360 แพง   xxunk ขวด ใหญ่ ก็ แพง   แต่ น้ำแข็ง พอได้ เพราะ อากาศ บ้าน เรา ร้อน ละลาย ง่าย อันนี้ พอ เข้าใจ คน ขาย   แต่ ทะเล เผา ทะเล ลวก ไม่เห็น หน้าตา ว่า มี อะไร บ้าง ก็ กุ้ง หมึก ปู xxunk 300   ตัว กลางๆ ใส่ มา อย่าง 5 ตัว ปู สัก ตัว   กำไร xxunk   ตำ ทะเล ตำ กุ้ง สด 150 ไม่ แพง   กุ้ง ชุ ป แป้ง ทอด แพง มาก ๆ   ต้มยำ หม้อ ละ 300 ร้อย ถือว่า แพง มาก   เพราะ มัน ใส่ ได้ ไม่ เยอะ หรอก   มันดี ตรง ที่ มี น้ำ กับ ไฟ อุ่น ร้อน   ของ กินใน บ้าน ยัง แทบ แตะ ไม่ได้   ทั้งที่ ป ระ ก็ xxunk   คน ในประเทศ ยัง กิน ไม่ อิม ส่งออก นอก พอ มี น้อย เหลือ น้อย   ก็ ขาย ให้ กัน แพง ๆ   ระบบ แย่ เอาเปรียบ กันเอง   ที่ บ้าน ขาย อาหาร กับข้าว ตาม สั่ง ป รุ่ง สุก ใหม่   แค่ จาน ละ 100 - 150   คน ยัง ว่า แพง ทั้งที่ บอ กว่า อร่อย   ถ้า ไป เจอ แบบนี้ สงสัย ช็อค ตาย คา ร้าน เลย มัง   ถ้า ต้อง ไป เจอ ทั้ง แพง ทั้ง ไม่อร่อย สัก แต่ ทำ ขาย   ใคร ว่า ไม่ แพง ยินดี ด้วย ที่ คุณ เป็น คน มี ตัง   แต่ เรา มอง จาก ค่าแรง กลางๆ ของ คน ในประเทศ นะ   ซึ่ง ส่วนมาก คนใน ประเทศไทย ได้ แต่ ค่าแรงขั้นต่ำ กับ เบี้ย ขยัน เล็กน้อย   คนจน เยอะ กว่า คนรวย ด้วย   ทำ อะไร ต้อง นึกถึง ความ สมควร   นึกถึง กันและกัน   แต่ เรา ไม่ใช่ คน xxunk   ชอบ มอง และ คิด จาก ความเป็นจริง   ถึง ขาย ให้ ชาวต่างชาติ ก็ เถอะ   เหมือน คนไทย เอาเปรียบ ช่วย โอกาส และ ไม่ ค่อย xxunk\n",
       "y: CategoryList\n",
       "neu,neu,neg,neu,neg\n",
       "Path: wisesight_data;\n",
       "\n",
       "Test: None, model=SequentialRNN(\n",
       "  (0): MultiBatchEncoder(\n",
       "    (module): AWD_LSTM(\n",
       "      (encoder): Embedding(15000, 400, padding_idx=1)\n",
       "      (encoder_dp): EmbeddingDropout(\n",
       "        (emb): Embedding(15000, 400, padding_idx=1)\n",
       "      )\n",
       "      (rnns): ModuleList(\n",
       "        (0): WeightDropout(\n",
       "          (module): LSTM(400, 1550, batch_first=True)\n",
       "        )\n",
       "        (1): WeightDropout(\n",
       "          (module): LSTM(1550, 1550, batch_first=True)\n",
       "        )\n",
       "        (2): WeightDropout(\n",
       "          (module): LSTM(1550, 1550, batch_first=True)\n",
       "        )\n",
       "        (3): WeightDropout(\n",
       "          (module): LSTM(1550, 400, batch_first=True)\n",
       "        )\n",
       "      )\n",
       "      (input_dp): RNNDropout()\n",
       "      (hidden_dps): ModuleList(\n",
       "        (0): RNNDropout()\n",
       "        (1): RNNDropout()\n",
       "        (2): RNNDropout()\n",
       "        (3): RNNDropout()\n",
       "      )\n",
       "    )\n",
       "  )\n",
       "  (1): PoolingLinearClassifier(\n",
       "    (layers): Sequential(\n",
       "      (0): BatchNorm1d(1200, eps=1e-05, momentum=0.1, affine=True, track_running_stats=True)\n",
       "      (1): Dropout(p=0.27999999999999997)\n",
       "      (2): Linear(in_features=1200, out_features=50, bias=True)\n",
       "      (3): ReLU(inplace)\n",
       "      (4): BatchNorm1d(50, eps=1e-05, momentum=0.1, affine=True, track_running_stats=True)\n",
       "      (5): Dropout(p=0.1)\n",
       "      (6): Linear(in_features=50, out_features=4, bias=True)\n",
       "    )\n",
       "  )\n",
       "), opt_func=functools.partial(<class 'torch.optim.adam.Adam'>, betas=(0.9, 0.99)), loss_func=FlattenedLoss of CrossEntropyLoss(), metrics=[<function accuracy at 0x7f51be568268>], true_wd=True, bn_wd=True, wd=0.01, train_bn=True, path=PosixPath('wisesight_data'), model_dir='models', callback_fns=[functools.partial(<class 'fastai.basic_train.Recorder'>, add_time=True, silent=False)], callbacks=[...], layer_groups=[Sequential(\n",
       "  (0): Embedding(15000, 400, padding_idx=1)\n",
       "  (1): EmbeddingDropout(\n",
       "    (emb): Embedding(15000, 400, padding_idx=1)\n",
       "  )\n",
       "), Sequential(\n",
       "  (0): WeightDropout(\n",
       "    (module): LSTM(400, 1550, batch_first=True)\n",
       "  )\n",
       "  (1): RNNDropout()\n",
       "), Sequential(\n",
       "  (0): WeightDropout(\n",
       "    (module): LSTM(1550, 1550, batch_first=True)\n",
       "  )\n",
       "  (1): RNNDropout()\n",
       "), Sequential(\n",
       "  (0): WeightDropout(\n",
       "    (module): LSTM(1550, 1550, batch_first=True)\n",
       "  )\n",
       "  (1): RNNDropout()\n",
       "), Sequential(\n",
       "  (0): WeightDropout(\n",
       "    (module): LSTM(1550, 400, batch_first=True)\n",
       "  )\n",
       "  (1): RNNDropout()\n",
       "), Sequential(\n",
       "  (0): PoolingLinearClassifier(\n",
       "    (layers): Sequential(\n",
       "      (0): BatchNorm1d(1200, eps=1e-05, momentum=0.1, affine=True, track_running_stats=True)\n",
       "      (1): Dropout(p=0.27999999999999997)\n",
       "      (2): Linear(in_features=1200, out_features=50, bias=True)\n",
       "      (3): ReLU(inplace)\n",
       "      (4): BatchNorm1d(50, eps=1e-05, momentum=0.1, affine=True, track_running_stats=True)\n",
       "      (5): Dropout(p=0.1)\n",
       "      (6): Linear(in_features=50, out_features=4, bias=True)\n",
       "    )\n",
       "  )\n",
       ")], add_time=True, silent=False, cb_fns_registered=False)\n",
       "alpha: 2\n",
       "beta: 1], layer_groups=[Sequential(\n",
       "  (0): Embedding(15000, 400, padding_idx=1)\n",
       "  (1): EmbeddingDropout(\n",
       "    (emb): Embedding(15000, 400, padding_idx=1)\n",
       "  )\n",
       "), Sequential(\n",
       "  (0): WeightDropout(\n",
       "    (module): LSTM(400, 1550, batch_first=True)\n",
       "  )\n",
       "  (1): RNNDropout()\n",
       "), Sequential(\n",
       "  (0): WeightDropout(\n",
       "    (module): LSTM(1550, 1550, batch_first=True)\n",
       "  )\n",
       "  (1): RNNDropout()\n",
       "), Sequential(\n",
       "  (0): WeightDropout(\n",
       "    (module): LSTM(1550, 1550, batch_first=True)\n",
       "  )\n",
       "  (1): RNNDropout()\n",
       "), Sequential(\n",
       "  (0): WeightDropout(\n",
       "    (module): LSTM(1550, 400, batch_first=True)\n",
       "  )\n",
       "  (1): RNNDropout()\n",
       "), Sequential(\n",
       "  (0): PoolingLinearClassifier(\n",
       "    (layers): Sequential(\n",
       "      (0): BatchNorm1d(1200, eps=1e-05, momentum=0.1, affine=True, track_running_stats=True)\n",
       "      (1): Dropout(p=0.27999999999999997)\n",
       "      (2): Linear(in_features=1200, out_features=50, bias=True)\n",
       "      (3): ReLU(inplace)\n",
       "      (4): BatchNorm1d(50, eps=1e-05, momentum=0.1, affine=True, track_running_stats=True)\n",
       "      (5): Dropout(p=0.1)\n",
       "      (6): Linear(in_features=50, out_features=4, bias=True)\n",
       "    )\n",
       "  )\n",
       ")], add_time=True, silent=False, cb_fns_registered=False)"
      ]
     },
     "execution_count": 40,
     "metadata": {
      "tags": []
     },
     "output_type": "execute_result"
    }
   ],
   "source": [
    "#model\n",
    "config = dict(emb_sz=400, n_hid=1550, n_layers=4, pad_token=1, qrnn=False,\n",
    "             output_p=0.4, hidden_p=0.2, input_p=0.6, embed_p=0.1, weight_p=0.5)\n",
    "trn_args = dict(bptt=70, drop_mult=0.7, alpha=2, beta=1, max_len=500)\n",
    "\n",
    "learn = text_classifier_learner(data_cls, AWD_LSTM, config=config, pretrained=False, **trn_args)\n",
    "#load pretrained finetuned model\n",
    "learn.load_encoder(\"wisesight_enc\")"
   ]
  },
  {
   "cell_type": "code",
   "execution_count": 0,
   "metadata": {
    "colab": {},
    "colab_type": "code",
    "id": "pRgoPD766z6S"
   },
   "outputs": [],
   "source": [
    "# #train unfrozen\n",
    "# learn.freeze_to(-1)\n",
    "# learn.fit_one_cycle(1, 2e-2, moms=(0.8, 0.7))\n",
    "# learn.freeze_to(-2)\n",
    "# learn.fit_one_cycle(1, slice(1e-2 / (2.6 ** 4), 1e-2), moms=(0.8, 0.7))\n",
    "# learn.freeze_to(-3)\n",
    "# learn.fit_one_cycle(1, slice(5e-3 / (2.6 ** 4), 5e-3), moms=(0.8, 0.7))\n",
    "# learn.unfreeze()\n",
    "# learn.fit_one_cycle(10, slice(1e-3 / (2.6 ** 4), 1e-3), moms=(0.8, 0.7),\n",
    "#                    callbacks=[SaveModelCallback(learn, every='improvement', monitor='accuracy', name='bestmodel')])"
   ]
  },
  {
   "cell_type": "markdown",
   "metadata": {
    "colab_type": "text",
    "id": "w54ZOwk66z6U"
   },
   "source": [
    "Training takes about 20 minutes so we use the script `train_model.py` to do it with the following results (validation run):\n",
    "\n",
    "```\n",
    "epoch     train_loss  valid_loss  accuracy\n",
    "1         0.812156    0.753478    0.687532\n",
    "Total time: 00:56\n",
    "epoch     train_loss  valid_loss  accuracy\n",
    "1         0.740403    0.699093    0.714394\n",
    "Total time: 00:57\n",
    "epoch     train_loss  valid_loss  accuracy\n",
    "1         0.727394    0.668807    0.723011\n",
    "Total time: 01:34\n",
    "epoch     train_loss  valid_loss  accuracy\n",
    "1         0.722163    0.675351    0.723517\n",
    "2         0.675266    0.654477    0.738723\n",
    "3         0.669178    0.641070    0.737962\n",
    "4         0.612528    0.637456    0.744551\n",
    "5         0.618259    0.635149    0.749366\n",
    "6         0.572621    0.651169    0.749873\n",
    "7         0.561985    0.661739    0.747593\n",
    "8         0.534753    0.673563    0.738469\n",
    "9         0.530844    0.688871    0.746072\n",
    "10        0.522788    0.670024    0.743031\n",
    "Total time: 23:42\n",
    "```"
   ]
  },
  {
   "cell_type": "markdown",
   "metadata": {
    "colab_type": "text",
    "id": "vM--oaCJ6z6V"
   },
   "source": [
    "### See Results"
   ]
  },
  {
   "cell_type": "code",
   "execution_count": 0,
   "metadata": {
    "colab": {},
    "colab_type": "code",
    "id": "eOCe24KL6z6W"
   },
   "outputs": [],
   "source": [
    "learn.load(\"bestmodel\")\n",
    "\n",
    "#get predictions\n",
    "probs, y_true, loss = learn.get_preds(ds_type = DatasetType.Valid, ordered=True, with_loss=True)\n",
    "classes = learn.data.train_ds.classes\n",
    "y_true = np.array([classes[i] for i in y_true.numpy()])\n",
    "preds = np.array([classes[i] for i in probs.argmax(1).numpy()])\n",
    "prob = probs.numpy()\n",
    "loss = loss.numpy()"
   ]
  },
  {
   "cell_type": "code",
   "execution_count": 0,
   "metadata": {
    "colab": {},
    "colab_type": "code",
    "id": "LaJYU8f56z6Z",
    "outputId": "28603bc9-8cf5-4aba-cfee-836d4c6b5b91"
   },
   "outputs": [
    {
     "data": {
      "text/plain": [
       "0.8392661555312158"
      ]
     },
     "execution_count": 32,
     "metadata": {
      "tags": []
     },
     "output_type": "execute_result"
    }
   ],
   "source": [
    "to_df = np.concatenate([y_true[:,None],preds[:,None],loss[:,None],prob],1)\n",
    "probs_df = pd.DataFrame(to_df)\n",
    "probs_df.columns = [\"category\",\"preds\",\"loss\"] + classes\n",
    "probs_df[\"hit\"] = (probs_df.category == probs_df.preds)\n",
    "probs_df[\"texts\"] = valid_df.texts\n",
    "(y_true==preds).mean()"
   ]
  },
  {
   "cell_type": "code",
   "execution_count": 0,
   "metadata": {
    "colab": {},
    "colab_type": "code",
    "id": "l_evHEMM6z6b",
    "outputId": "732e91f4-a281-4a70-bf3b-8c6d43cad41a"
   },
   "outputs": [
    {
     "data": {
      "image/png": "[encoded data removed]",
      "text/plain": [
       "<Figure size 432x288 with 2 Axes>"
      ]
     },
     "metadata": {
      "needs_background": "light",
      "tags": []
     },
     "output_type": "display_data"
    }
   ],
   "source": [
    "from sklearn.metrics import confusion_matrix\n",
    "import seaborn as sns\n",
    "\n",
    "conf_mat = confusion_matrix(probs_df.category,probs_df.preds)\n",
    "sns.heatmap(conf_mat, annot=True, fmt=\"d\",\n",
    "            xticklabels=classes, yticklabels=classes)\n",
    "plt.ylabel(\"Actual\")\n",
    "plt.xlabel(\"Predicted\")\n",
    "plt.show()"
   ]
  }
 ],
 "metadata": {
  "accelerator": "GPU",
  "colab": {
   "name": "sentiment_analysis.ipynb",
   "provenance": [],
   "version": "0.3.2"
  },
  "kernelspec": {
   "display_name": "Python 3",
   "language": "python",
   "name": "python3"
  },
  "language_info": {
   "codemirror_mode": {
    "name": "ipython",
    "version": 3
   },
   "file_extension": ".py",
   "mimetype": "text/x-python",
   "name": "python",
   "nbconvert_exporter": "python",
   "pygments_lexer": "ipython3",
   "version": "3.7.7"
  }
 },
 "nbformat": 4,
 "nbformat_minor": 1
}
