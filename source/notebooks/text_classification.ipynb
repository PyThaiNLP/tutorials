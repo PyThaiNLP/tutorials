{
 "cells": [
  {
   "cell_type": "markdown",
   "metadata": {},
   "source": [
    "# Wongnai Review Classification"
   ]
  },
  {
   "cell_type": "markdown",
   "metadata": {},
   "source": [
    "We provide two benchmarks for 5-star multi-class classification of [wongnai-corpus](https://github.com/wongnai/wongnai-corpus): [fastText](https://github.com/facebookresearch/fastText) and [ULMFit](https://github.com/cstorm125/thai2fit). In both cases, we first finetune the embeddings using all data. The benchmark numbers are based on the test set. Performance metric is the micro-averaged F1 by the test set of [Wongnai Challenge](https://www.kaggle.com/c/wongnai-challenge-review-rating-prediction/data).\n",
    "\n",
    "| model     | micro_f1_public | micro_f1_private | \n",
    "|-----------|-----------------|------------------|\n",
    "| **ULMFit** | **0.59313**          | **0.60322**           |\n",
    "| fastText | 0.5145          | 0.5109           |\n",
    "| LinearSVC | 0.5022          | 0.4976           |\n",
    "| Kaggle Score | 0.59139          | 0.58139          |\n",
    "| [BERT](https://github.com/ThAIKeras/bert) | 0.56612 | 0.57057 |"
   ]
  },
  {
   "cell_type": "code",
   "execution_count": 10,
   "metadata": {},
   "outputs": [],
   "source": [
    "# #uncomment if you are running from google colab\n",
    "# !pip install sklearn_crfsuite\n",
    "# !pip install https://github.com/PyThaiNLP/pythainlp/archive/dev.zip\n",
    "# !pip install fastai==1.0.45\n",
    "# !wget https://github.com/wongnai/wongnai-corpus/raw/master/review/review_dataset.zip; unzip review_dataset.zip\n",
    "# !mkdir wongnai_data; ls"
   ]
  },
  {
   "cell_type": "code",
   "execution_count": 4,
   "metadata": {},
   "outputs": [],
   "source": [
    "import pandas as pd\n",
    "import numpy as np\n",
    "from ast import literal_eval\n",
    "from tqdm import tqdm_notebook\n",
    "from collections import Counter\n",
    "import re\n",
    "\n",
    "#viz\n",
    "import matplotlib.pyplot as plt\n",
    "import seaborn as sns\n",
    "\n",
    "# from fastai.text import *\n",
    "# from fastai.callbacks import CSVLogger\n",
    "\n",
    "from pythainlp import word_tokenize\n",
    "from pythainlp.ulmfit import process_thai\n",
    "\n",
    "ft_data = 'ft_data/'"
   ]
  },
  {
   "cell_type": "markdown",
   "metadata": {},
   "source": [
    "## Oversampling"
   ]
  },
  {
   "cell_type": "markdown",
   "metadata": {},
   "source": [
    "We oversampled class `1` and `2` for 11 and 3 times respectively in order to balance the classes."
   ]
  },
  {
   "cell_type": "code",
   "execution_count": 5,
   "metadata": {},
   "outputs": [],
   "source": [
    "train_df = pd.read_csv('w_review_train.csv',sep=';',header=None).drop_duplicates()\n",
    "train_df.columns = ['review','rating']\n",
    "test_df = pd.read_csv('test_file.csv',sep=';')\n",
    "test_df['rating'] = 0\n",
    "all_df = pd.concat([pd.DataFrame(test_df['review']),\\\n",
    "                   pd.DataFrame(train_df['review'])]).reset_index(drop=True)"
   ]
  },
  {
   "cell_type": "code",
   "execution_count": 6,
   "metadata": {},
   "outputs": [
    {
     "data": {
      "text/plain": [
       "4    0.469282\n",
       "3    0.304328\n",
       "5    0.169880\n",
       "2    0.046133\n",
       "1    0.010377\n",
       "Name: rating, dtype: float64"
      ]
     },
     "execution_count": 6,
     "metadata": {},
     "output_type": "execute_result"
    }
   ],
   "source": [
    "train_df.rating.value_counts() / train_df.shape[0]"
   ]
  },
  {
   "cell_type": "code",
   "execution_count": 7,
   "metadata": {},
   "outputs": [
    {
     "data": {
      "text/plain": [
       "4    0.392365\n",
       "3    0.254448\n",
       "5    0.142036\n",
       "2    0.115715\n",
       "1    0.095436\n",
       "Name: rating, dtype: float64"
      ]
     },
     "execution_count": 7,
     "metadata": {},
     "output_type": "execute_result"
    }
   ],
   "source": [
    "two_df = pd.concat([train_df[train_df.rating==2].copy() for i in range(2)]).reset_index(drop=True)\n",
    "one_df = pd.concat([train_df[train_df.rating==1].copy() for i in range(10)]).reset_index(drop=True)\n",
    "train_bal = pd.concat([train_df,one_df,two_df]).reset_index(drop=True)\n",
    "train_bal.rating.value_counts() / train_bal.shape[0]"
   ]
  },
  {
   "cell_type": "markdown",
   "metadata": {},
   "source": [
    "## [fastText](https://github.com/facebookresearch/fastText) Model"
   ]
  },
  {
   "cell_type": "markdown",
   "metadata": {},
   "source": [
    "We used embeddings pretrained on [Thai Wikipedia Dump](https://github.com/facebookresearch/fastText/blob/master/docs/pretrained-vectors.md) and finetuned them using all of `wisesight-sentiment` using skipgram model. After that, we do a 5-class classification.\n",
    "\n",
    "| model    | micro_f1_public | micro_f1_private |\n",
    "|----------|-----------------|------------------|\n",
    "| fastText | 0.5145          | 0.5109           |"
   ]
  },
  {
   "cell_type": "code",
   "execution_count": 57,
   "metadata": {},
   "outputs": [],
   "source": [
    "df_txts = ['train','train_bal','test']\n",
    "dfs = [train_df,train_bal,test_df]\n",
    "\n",
    "for i in range(3):\n",
    "    df = dfs[i]\n",
    "    ft_lines = []\n",
    "    for _,row in df.iterrows():\n",
    "        ft_lab = f'__label__{row[\"rating\"]}'\n",
    "        ft_text = replace_newline(f'{row[\"review\"]}')\n",
    "        ft_line = f'{ft_lab} {ft_text}'\n",
    "        ft_lines.append(ft_line)\n",
    "\n",
    "    doc = '\\n'.join(ft_lines)\n",
    "    with open(f'{ft_data}{df_txts[i]}.txt','w') as f:\n",
    "        f.write(doc)\n",
    "    f.close()"
   ]
  },
  {
   "cell_type": "code",
   "execution_count": 50,
   "metadata": {},
   "outputs": [],
   "source": [
    "#for fasttext embedding finetuning\n",
    "ft_lines = []\n",
    "for _,row in all_df.iterrows():\n",
    "    ft_lab = '__label__0'\n",
    "    ft_text = replace_newline(f'{row[\"review\"]}')\n",
    "    ft_line = f'{ft_lab} {ft_text}'\n",
    "    ft_lines.append(ft_line)\n",
    "\n",
    "doc = '\\n'.join(ft_lines)\n",
    "with open(f'{ft_data}df_all.txt','w') as f:\n",
    "    f.write(doc)\n",
    "f.close()"
   ]
  },
  {
   "cell_type": "code",
   "execution_count": 51,
   "metadata": {},
   "outputs": [
    {
     "name": "stdout",
     "output_type": "stream",
     "text": [
      "Read 1M words\n",
      "Number of words:  18176\n",
      "Number of labels: 1\n",
      "Progress: 100.0%  words/sec/thread: 24858  lr: 0.000000  loss: 1.309402  eta: 0h0m \n"
     ]
    }
   ],
   "source": [
    "#finetune with all data\n",
    "!/home/charin/fastText-0.1.0/fasttext skipgram \\\n",
    "-pretrainedVectors 'model/wiki.th.vec' -dim 300 \\\n",
    "-input ft_data/df_all.txt -output 'model/finetuned'"
   ]
  },
  {
   "cell_type": "code",
   "execution_count": 80,
   "metadata": {},
   "outputs": [
    {
     "name": "stdout",
     "output_type": "stream",
     "text": [
      "Read 1M words\n",
      "Number of words:  731006\n",
      "Number of labels: 5\n",
      "Progress: 100.0%  words/sec/thread: 391282  lr: 0.000000  loss: 0.764689  eta: 0h0m \n",
      "^C\n"
     ]
    }
   ],
   "source": [
    "#train classifier\n",
    "!/home/charin/fastText-0.1.0/fasttext supervised \\\n",
    "-input 'ft_data/train_bal.txt' -output 'model/wongnai_bal' \\\n",
    "-pretrainedVectors 'model/finetuned.vec' -epoch 5 -dim 300 -wordNgrams 2 "
   ]
  },
  {
   "cell_type": "code",
   "execution_count": 81,
   "metadata": {},
   "outputs": [],
   "source": [
    "#get prediction\n",
    "preds = !/home/charin/fastText-0.1.0/fasttext predict 'model/wongnai_bal.bin' 'ft_data/test.txt'\n",
    "pred_lab = np.array([int(i.split('__')[-1]) for i in preds])"
   ]
  },
  {
   "cell_type": "code",
   "execution_count": 82,
   "metadata": {},
   "outputs": [],
   "source": [
    "submit_df = pd.DataFrame({'reviewID':test_df.reviewID,\n",
    "                          'rating':pred_lab})\n",
    "submit_df.head()\n",
    "submit_df.to_csv('submit_fastttext_bal.csv',index=False)"
   ]
  },
  {
   "cell_type": "markdown",
   "metadata": {},
   "source": [
    "## LinearSVC Model"
   ]
  },
  {
   "cell_type": "markdown",
   "metadata": {},
   "source": [
    "Code for LinearSVC is initially provided by [@lukkiddd](https://github.com/lukkiddd). `pythainlp.ulmfit.process_thai` contains text cleaning rules with the default aimed for sparse models like bag of words. It contains `pre_rules` applied before tokenization and `post_rules` applied after.\n",
    "\n",
    "| model     | micro_f1_public | micro_f1_private | \n",
    "|-----------|-----------------|------------------|\n",
    "| LinearSVC | 0.5022          | 0.4976           |"
   ]
  },
  {
   "cell_type": "code",
   "execution_count": 8,
   "metadata": {},
   "outputs": [],
   "source": [
    "X_train, y_train = train_bal['review'], train_bal['rating']\n",
    "X_test = test_df['review']"
   ]
  },
  {
   "cell_type": "code",
   "execution_count": 9,
   "metadata": {},
   "outputs": [
    {
     "data": {
      "application/vnd.jupyter.widget-view+json": {
       "model_id": "01cf5b2e041d4ce0a482073127c67c8b",
       "version_major": 2,
       "version_minor": 0
      },
      "text/plain": [
       "HBox(children=(IntProgress(value=0, max=47833), HTML(value='')))"
      ]
     },
     "metadata": {},
     "output_type": "display_data"
    },
    {
     "name": "stdout",
     "output_type": "stream",
     "text": [
      "\n"
     ]
    },
    {
     "data": {
      "application/vnd.jupyter.widget-view+json": {
       "model_id": "097725d69a834eb5bda2b6d4b6c0c1e3",
       "version_major": 2,
       "version_minor": 0
      },
      "text/plain": [
       "HBox(children=(IntProgress(value=0, max=6203), HTML(value='')))"
      ]
     },
     "metadata": {},
     "output_type": "display_data"
    },
    {
     "name": "stdout",
     "output_type": "stream",
     "text": [
      "\n"
     ]
    }
   ],
   "source": [
    "train_splits = []\n",
    "test_splits = []\n",
    "for i in tqdm_notebook(range(train_bal.shape[0])):\n",
    "    train_splits.append(' '.join(process_thai(train_bal['review'][i])))\n",
    "for i in tqdm_notebook(range(test_df.shape[0])):\n",
    "    test_splits.append(' '.join(process_thai(test_df['review'][i])))"
   ]
  },
  {
   "cell_type": "code",
   "execution_count": 14,
   "metadata": {},
   "outputs": [
    {
     "data": {
      "text/plain": [
       "Pipeline(memory=None,\n",
       "     steps=[('vect', CountVectorizer(analyzer='word', binary=False, decode_error='strict',\n",
       "        dtype=<class 'numpy.int64'>, encoding='utf-8', input='content',\n",
       "        lowercase=True, max_df=1.0, max_features=None, min_df=1,\n",
       "        ngram_range=(1, 2), preprocessor=None, stop_words=None,\n",
       "        strip...ax_iter=1000,\n",
       "     multi_class='ovr', penalty='l2', random_state=None, tol=0.0001,\n",
       "     verbose=0))])"
      ]
     },
     "execution_count": 14,
     "metadata": {},
     "output_type": "execute_result"
    }
   ],
   "source": [
    "from sklearn.pipeline import Pipeline\n",
    "from sklearn.feature_extraction.text import CountVectorizer, TfidfTransformer\n",
    "from sklearn.svm import LinearSVC\n",
    "\n",
    "text_clf = Pipeline([\n",
    "    ('vect', CountVectorizer(tokenizer=process_thai, ngram_range=(1,2))),\n",
    "    ('tfidf', TfidfTransformer()),\n",
    "    ('clf', LinearSVC()),\n",
    "])\n",
    "\n",
    "text_clf.fit(X_train, y_train)"
   ]
  },
  {
   "cell_type": "code",
   "execution_count": 15,
   "metadata": {},
   "outputs": [],
   "source": [
    "pred_lab = text_clf.predict(X_test)"
   ]
  },
  {
   "cell_type": "code",
   "execution_count": 16,
   "metadata": {},
   "outputs": [],
   "source": [
    "from sklearn.preprocessing import OneHotEncoder\n",
    "enc = OneHotEncoder(handle_unknown='ignore')\n",
    "pred_lab = text_clf.predict(X_test)"
   ]
  },
  {
   "cell_type": "code",
   "execution_count": 98,
   "metadata": {},
   "outputs": [],
   "source": [
    "submit_df = pd.DataFrame({'reviewID':test_df.reviewID,\n",
    "                          'rating':pred_lab})\n",
    "submit_df.head()\n",
    "submit_df.to_csv('submit_linearsvc.csv',index=False)"
   ]
  },
  {
   "cell_type": "markdown",
   "metadata": {},
   "source": [
    "## [ULMFit](https://github.com/cstorm125/thai2fit) Model"
   ]
  },
  {
   "cell_type": "markdown",
   "metadata": {},
   "source": [
    "| model     | micro_f1_public | micro_f1_private | \n",
    "|-----------|-----------------|------------------|\n",
    "| ULMFit | 0.59590          | 0.59731           |"
   ]
  },
  {
   "cell_type": "code",
   "execution_count": null,
   "metadata": {},
   "outputs": [],
   "source": [
    "# #uncomment if you are running from google colab\n",
    "# !pip install sklearn_crfsuite\n",
    "# !pip install https://github.com/PyThaiNLP/pythainlp/archive/dev.zip\n",
    "# !pip install fastai==1.0.45\n",
    "# !wget https://github.com/wongnai/wongnai-corpus/raw/master/review/review_dataset.zip; unzip review_dataset.zip\n",
    "# !mkdir wongnai_data; ls"
   ]
  },
  {
   "cell_type": "code",
   "execution_count": 1,
   "metadata": {},
   "outputs": [],
   "source": [
    "import pandas as pd\n",
    "import numpy as np\n",
    "from ast import literal_eval\n",
    "from tqdm import tqdm_notebook\n",
    "from collections import Counter\n",
    "import re\n",
    "\n",
    "#viz\n",
    "import matplotlib.pyplot as plt\n",
    "import seaborn as sns\n",
    "\n",
    "from fastai.text import *\n",
    "from fastai.callbacks import CSVLogger\n",
    "\n",
    "from pythainlp.ulmfit import *\n",
    "\n",
    "model_path = 'wongnai_data/'"
   ]
  },
  {
   "cell_type": "code",
   "execution_count": 2,
   "metadata": {},
   "outputs": [],
   "source": [
    "#process data\n",
    "train_df = pd.read_csv('w_review_train.csv',sep=';',header=None).drop_duplicates()\n",
    "train_df.columns = ['review','rating']\n",
    "test_df = pd.read_csv('test_file.csv',sep=';')\n",
    "test_df['rating'] = 0\n",
    "all_df = pd.concat([pd.DataFrame(test_df['review']),\\\n",
    "                   pd.DataFrame(train_df['review'])]).reset_index(drop=True)\n",
    "two_df = pd.concat([train_df[train_df.rating==2].copy() for i in range(2)]).reset_index(drop=True)\n",
    "one_df = pd.concat([train_df[train_df.rating==1].copy() for i in range(10)]).reset_index(drop=True)\n",
    "train_bal = pd.concat([train_df,one_df,two_df]).reset_index(drop=True)"
   ]
  },
  {
   "cell_type": "markdown",
   "metadata": {},
   "source": [
    "### Finetune Language Model"
   ]
  },
  {
   "cell_type": "code",
   "execution_count": 3,
   "metadata": {},
   "outputs": [],
   "source": [
    "# tt = Tokenizer(tok_func = ThaiTokenizer, lang = 'th', pre_rules = pre_rules_th, post_rules=post_rules_th)\n",
    "# processor = [TokenizeProcessor(tokenizer=tt, chunksize=10000, mark_fields=False),\n",
    "#             NumericalizeProcessor(vocab=None, max_vocab=60000, min_freq=3)]\n",
    "\n",
    "# data_lm = (TextList.from_df(all_df, model_path, cols=['review'], processor=processor)\n",
    "#     .random_split_by_pct(valid_pct = 0.01, seed = 1412)\n",
    "#     .label_for_lm()\n",
    "#     .databunch(bs=64))\n",
    "# data_lm.sanity_check()\n",
    "# data_lm.save('wongnai_lm.pkl')"
   ]
  },
  {
   "cell_type": "code",
   "execution_count": 3,
   "metadata": {},
   "outputs": [
    {
     "data": {
      "text/plain": [
       "(45735, 461)"
      ]
     },
     "execution_count": 3,
     "metadata": {},
     "output_type": "execute_result"
    }
   ],
   "source": [
    "data_lm = load_data(model_path,'wongnai_lm.pkl')\n",
    "data_lm.sanity_check()\n",
    "len(data_lm.train_ds), len(data_lm.valid_ds)"
   ]
  },
  {
   "cell_type": "code",
   "execution_count": 5,
   "metadata": {},
   "outputs": [
    {
     "data": {
      "text/html": [
       "<table border=\"1\" class=\"dataframe\">\n",
       "  <thead>\n",
       "    <tr style=\"text-align: right;\">\n",
       "      <th>idx</th>\n",
       "      <th>text</th>\n",
       "    </tr>\n",
       "  </thead>\n",
       "  <tbody>\n",
       "    <tr>\n",
       "      <td>0</td>\n",
       "      <td>ไข่ดาว หมด ซะ ก่อน   แต่ แค่   2   อย่าง กับ ข้าวสวย ที่ ให้ มา ใน ปริมาณ ที่ อิ่ม พอดี ก็ เต็ม ที่แล้ว   แม่ค้า ก็ อัธยาศัย ดี รับรอง ว่า มี กลับมา กิน   \\n   อีก บ่อยๆ แน่ นอ น. ..   \\n   ใคร ผ่าน มา แถว นี้ ลอง แวะ ชิม นะคะ   สำหรับ คน ที่ ชอบ รส</td>\n",
       "    </tr>\n",
       "    <tr>\n",
       "      <td>1</td>\n",
       "      <td>เครื่องดื่ม มากมาย   แต่ ที่ กิน แล้ว ปลื้ม คง เป็น โกโก้ ปั่น   เข้มข้น   และ   topping   เยอะ ดี   เสียดาย หา รูป ไม่ เจอ   ?   xxrep   12   xxbos   ตอน :   ก๋วยเตี๋ยว บ้าน บึง   1   \\n   \\n   ก๋วยเตี๋ยว บ้าน บึง</td>\n",
       "    </tr>\n",
       "    <tr>\n",
       "      <td>2</td>\n",
       "      <td>เนื้อ เน้น ๆ   ดี อ่ะ   \\n   ลืม ถ่าย สุ กี้ หมู !! xxbos   เช้า วันอาทิตย์ หิว มาก ค่ะ   หา อะไร ทาน ค่อนข้าง ยาก   นึก ขึ้น ได้ ว่า ร้าน วา วี สาขา พัฒนาการ เปิด ทุกวัน และ เปิด แต่เช้า ด้วย   เลย มา ฝาก ท้อง ที่นี่   ใน ตู้ กัน มี ให้ เลือก หลายอย่าง เลย   ทั้ง</td>\n",
       "    </tr>\n",
       "    <tr>\n",
       "      <td>3</td>\n",
       "      <td>สด   เน้น ว่า สด มาก   การ บริการ   ลุง กะ ป้า   และ ลูกสาว เจ้าของร้าน   พุด จา ดี   บริการ ดีมาก xxbos   รี วิว นี้ ความคิดเห็น ส่วนตัว   ล้วน ๆ ครับ   \\n   ผม ได้ เห็น คน รี วิว ร้าน นี้ เยอะ มาก   ออก แนวทาง บวก ด้วย ส่วนใหญ่   แล้ว เมื่อ วันที่</td>\n",
       "    </tr>\n",
       "    <tr>\n",
       "      <td>4</td>\n",
       "      <td>\\n   บรรยากาศ ร้าน จะ เป็น รถเข็น ที่ตั้ง ขาย อยู่ ริม ทาง เลย ครับ   โต๊ะ นั่ง มี ไม่ มาก   ตกแต่ง ให้ ออก เป็นแนว ญี่ปุ่น เล็กน้อย   มี บาร์ นั่ง โดยรอบ รถเข็น   นึกถึง ร้า นรา เมน ที่ ญี่ปุ่น อยู่ ร้าน นึง เลย   ยืน กิน โดยรอบ ร้าน   ได้ บรรยากาศ ยิ่งนัก   ร้าน นี้ จะ เปิด ขาย ทุกวัน</td>\n",
       "    </tr>\n",
       "  </tbody>\n",
       "</table>"
      ],
      "text/plain": [
       "<IPython.core.display.HTML object>"
      ]
     },
     "metadata": {},
     "output_type": "display_data"
    }
   ],
   "source": [
    "data_lm.show_batch(5)"
   ]
  },
  {
   "cell_type": "code",
   "execution_count": 6,
   "metadata": {},
   "outputs": [
    {
     "data": {
      "text/plain": [
       "[tensor([[   8,    2,    8,  ...,  414,    8,   29],\n",
       "         [  43, 3408,    8,  ...,  135,   25,  409],\n",
       "         [1325,    8, 1185,  ...,   13,   18,    8],\n",
       "         ...,\n",
       "         [   4, 9903,    8,  ...,    8,  368,   18],\n",
       "         [  27,  360,  870,  ...,  254, 3448,   34],\n",
       "         [  37,   25,  174,  ...,  429,    8, 1412]], device='cuda:0'),\n",
       " tensor([[    2,     8,    36,  ...,     8,    29,   193],\n",
       "         [ 3408,     8,    14,  ...,    25,   409,    61],\n",
       "         [    8,  1185,     8,  ...,    18,     8,    80],\n",
       "         ...,\n",
       "         [ 9903,     8,     4,  ...,   368,    18,     8],\n",
       "         [  360,   870, 10074,  ...,  3448,    34,   258],\n",
       "         [   25,   174,   456,  ...,     8,  1412,   270]], device='cuda:0')]"
      ]
     },
     "execution_count": 6,
     "metadata": {},
     "output_type": "execute_result"
    }
   ],
   "source": [
    "next(iter(data_lm.train_dl))"
   ]
  },
  {
   "cell_type": "code",
   "execution_count": 10,
   "metadata": {},
   "outputs": [],
   "source": [
    "config = dict(emb_sz=400, n_hid=1550, n_layers=4, pad_token=1, qrnn=False, tie_weights=True, out_bias=True,\n",
    "             output_p=0.25, hidden_p=0.1, input_p=0.2, embed_p=0.02, weight_p=0.15)\n",
    "trn_args = dict(drop_mult=0.9, clip=0.12, alpha=2, beta=1)\n",
    "\n",
    "learn = language_model_learner(data_lm, AWD_LSTM, config=config, pretrained=False, **trn_args)\n",
    "\n",
    "#load pretrained models\n",
    "learn.load_pretrained(**_THWIKI_LSTM)"
   ]
  },
  {
   "cell_type": "code",
   "execution_count": 8,
   "metadata": {},
   "outputs": [
    {
     "data": {
      "text/plain": [
       "'สวัสดีครับพี่น้องเสื้อ แดง = เสื้อ ไหม เสื้อ แดง \" สำหรับ \" Mr . คช \" เป็น ภาพยนตร์ ไทย ที่ ออก ฉาย ใน ปี พ.ศ. 2557 กำกับ โดย ยุทธ เลิศ สิ ปป ภาค และ ออก ฉาย ใน โรงภาพยนตร์ ใน วันที่ 3 เมษายน พ.ศ. 2558 โดย มี เนื้อหา เกี่ยวกับ \" เด็ก คน'"
      ]
     },
     "execution_count": 8,
     "metadata": {},
     "output_type": "execute_result"
    }
   ],
   "source": [
    "learn.predict('สวัสดีครับพี่น้องเสื้อ', 50, temperature=0.5)"
   ]
  },
  {
   "cell_type": "code",
   "execution_count": 11,
   "metadata": {},
   "outputs": [
    {
     "data": {
      "text/html": [],
      "text/plain": [
       "<IPython.core.display.HTML object>"
      ]
     },
     "metadata": {},
     "output_type": "display_data"
    },
    {
     "name": "stdout",
     "output_type": "stream",
     "text": [
      "LR Finder is complete, type {learner_name}.recorder.plot() to see the graph.\n",
      "Min numerical gradient: 1.58E-04\n"
     ]
    },
    {
     "data": {
      "image/png": "[encoded data removed]",
      "text/plain": [
       "<Figure size 432x288 with 1 Axes>"
      ]
     },
     "metadata": {
      "needs_background": "light"
     },
     "output_type": "display_data"
    }
   ],
   "source": [
    "learn.lr_find()\n",
    "learn.recorder.plot()"
   ]
  },
  {
   "cell_type": "code",
   "execution_count": 12,
   "metadata": {},
   "outputs": [
    {
     "data": {
      "text/plain": [
       "22562"
      ]
     },
     "execution_count": 12,
     "metadata": {},
     "output_type": "execute_result"
    }
   ],
   "source": [
    "len(learn.data.vocab.itos)"
   ]
  },
  {
   "cell_type": "code",
   "execution_count": 13,
   "metadata": {},
   "outputs": [
    {
     "name": "stdout",
     "output_type": "stream",
     "text": [
      "training frozen\n"
     ]
    },
    {
     "data": {
      "text/html": [
       "Total time: 06:36 <p><table style='width:300px; margin-bottom:10px'>\n",
       "  <tr>\n",
       "    <th>epoch</th>\n",
       "    <th>train_loss</th>\n",
       "    <th>valid_loss</th>\n",
       "    <th>accuracy</th>\n",
       "  </tr>\n",
       "  <tr>\n",
       "    <th>1</th>\n",
       "    <th>4.659182</th>\n",
       "    <th>4.493942</th>\n",
       "    <th>0.342857</th>\n",
       "  </tr>\n",
       "</table>\n"
      ],
      "text/plain": [
       "<IPython.core.display.HTML object>"
      ]
     },
     "metadata": {},
     "output_type": "display_data"
    }
   ],
   "source": [
    "#train frozen\n",
    "print('training frozen')\n",
    "learn.freeze_to(-1)\n",
    "learn.fit_one_cycle(1, 1e-3, moms=(0.8, 0.7))"
   ]
  },
  {
   "cell_type": "code",
   "execution_count": 14,
   "metadata": {},
   "outputs": [
    {
     "name": "stdout",
     "output_type": "stream",
     "text": [
      "training unfrozen\n"
     ]
    },
    {
     "data": {
      "text/html": [
       "Total time: 1:26:45 <p><table style='width:300px; margin-bottom:10px'>\n",
       "  <tr>\n",
       "    <th>epoch</th>\n",
       "    <th>train_loss</th>\n",
       "    <th>valid_loss</th>\n",
       "    <th>accuracy</th>\n",
       "  </tr>\n",
       "  <tr>\n",
       "    <th>1</th>\n",
       "    <th>4.375606</th>\n",
       "    <th>4.252919</th>\n",
       "    <th>0.385714</th>\n",
       "  </tr>\n",
       "  <tr>\n",
       "    <th>2</th>\n",
       "    <th>4.165419</th>\n",
       "    <th>4.013862</th>\n",
       "    <th>0.371429</th>\n",
       "  </tr>\n",
       "  <tr>\n",
       "    <th>3</th>\n",
       "    <th>4.034220</th>\n",
       "    <th>3.802707</th>\n",
       "    <th>0.357143</th>\n",
       "  </tr>\n",
       "  <tr>\n",
       "    <th>4</th>\n",
       "    <th>3.879111</th>\n",
       "    <th>3.712463</th>\n",
       "    <th>0.357143</th>\n",
       "  </tr>\n",
       "  <tr>\n",
       "    <th>5</th>\n",
       "    <th>3.823682</th>\n",
       "    <th>3.624331</th>\n",
       "    <th>0.371429</th>\n",
       "  </tr>\n",
       "  <tr>\n",
       "    <th>6</th>\n",
       "    <th>3.784611</th>\n",
       "    <th>3.580608</th>\n",
       "    <th>0.371429</th>\n",
       "  </tr>\n",
       "  <tr>\n",
       "    <th>7</th>\n",
       "    <th>3.753532</th>\n",
       "    <th>3.553170</th>\n",
       "    <th>0.371429</th>\n",
       "  </tr>\n",
       "  <tr>\n",
       "    <th>8</th>\n",
       "    <th>3.719396</th>\n",
       "    <th>3.516521</th>\n",
       "    <th>0.385714</th>\n",
       "  </tr>\n",
       "  <tr>\n",
       "    <th>9</th>\n",
       "    <th>3.699165</th>\n",
       "    <th>3.513339</th>\n",
       "    <th>0.385714</th>\n",
       "  </tr>\n",
       "  <tr>\n",
       "    <th>10</th>\n",
       "    <th>3.696516</th>\n",
       "    <th>3.512542</th>\n",
       "    <th>0.385714</th>\n",
       "  </tr>\n",
       "</table>\n"
      ],
      "text/plain": [
       "<IPython.core.display.HTML object>"
      ]
     },
     "metadata": {},
     "output_type": "display_data"
    }
   ],
   "source": [
    "#train unfrozen\n",
    "print('training unfrozen')\n",
    "learn.unfreeze()\n",
    "learn.fit_one_cycle(10, 1e-4, moms=(0.8, 0.7))"
   ]
  },
  {
   "cell_type": "code",
   "execution_count": 15,
   "metadata": {},
   "outputs": [],
   "source": [
    "learn.save('wongnai_lm')\n",
    "learn.save_encoder('wongnai_enc')"
   ]
  },
  {
   "cell_type": "markdown",
   "metadata": {},
   "source": [
    "### Classification"
   ]
  },
  {
   "cell_type": "code",
   "execution_count": 9,
   "metadata": {},
   "outputs": [
    {
     "data": {
      "text/html": [
       "<div>\n",
       "<style scoped>\n",
       "    .dataframe tbody tr th:only-of-type {\n",
       "        vertical-align: middle;\n",
       "    }\n",
       "\n",
       "    .dataframe tbody tr th {\n",
       "        vertical-align: top;\n",
       "    }\n",
       "\n",
       "    .dataframe thead th {\n",
       "        text-align: right;\n",
       "    }\n",
       "</style>\n",
       "<table border=\"1\" class=\"dataframe\">\n",
       "  <thead>\n",
       "    <tr style=\"text-align: right;\">\n",
       "      <th></th>\n",
       "      <th>reviewID</th>\n",
       "      <th>review</th>\n",
       "      <th>rating</th>\n",
       "    </tr>\n",
       "  </thead>\n",
       "  <tbody>\n",
       "    <tr>\n",
       "      <th>0</th>\n",
       "      <td>1</td>\n",
       "      <td>ร้านนี้จะอยู่เส้นสันกำแพง-แม่ออน เลยแยกบ่...</td>\n",
       "      <td>0</td>\n",
       "    </tr>\n",
       "    <tr>\n",
       "      <th>1</th>\n",
       "      <td>2</td>\n",
       "      <td>สั่งไป2 เมนู คือมัชฉะลาเต้ร้อน กับ ไอศครีมชาเข...</td>\n",
       "      <td>0</td>\n",
       "    </tr>\n",
       "    <tr>\n",
       "      <th>2</th>\n",
       "      <td>3</td>\n",
       "      <td>ครัววงเดือน  \\n\\nหิวดึกๆ ตระเวนหาร้านทาน มาเจอ...</td>\n",
       "      <td>0</td>\n",
       "    </tr>\n",
       "    <tr>\n",
       "      <th>3</th>\n",
       "      <td>4</td>\n",
       "      <td>จะว่าเป็นเจ้าประจำก็คงไม่ผิด แต่ก็ไม่กล้า...</td>\n",
       "      <td>0</td>\n",
       "    </tr>\n",
       "    <tr>\n",
       "      <th>4</th>\n",
       "      <td>5</td>\n",
       "      <td>ถ้าคิดถึงสลัดผมคิดถึงร้านนี้เป็นร้านแรกๆเลยครั...</td>\n",
       "      <td>0</td>\n",
       "    </tr>\n",
       "  </tbody>\n",
       "</table>\n",
       "</div>"
      ],
      "text/plain": [
       "   reviewID                                             review  rating\n",
       "0         1       ร้านนี้จะอยู่เส้นสันกำแพง-แม่ออน เลยแยกบ่...       0\n",
       "1         2  สั่งไป2 เมนู คือมัชฉะลาเต้ร้อน กับ ไอศครีมชาเข...       0\n",
       "2         3  ครัววงเดือน  \\n\\nหิวดึกๆ ตระเวนหาร้านทาน มาเจอ...       0\n",
       "3         4       จะว่าเป็นเจ้าประจำก็คงไม่ผิด แต่ก็ไม่กล้า...       0\n",
       "4         5  ถ้าคิดถึงสลัดผมคิดถึงร้านนี้เป็นร้านแรกๆเลยครั...       0"
      ]
     },
     "execution_count": 9,
     "metadata": {},
     "output_type": "execute_result"
    }
   ],
   "source": [
    "test_df.head()"
   ]
  },
  {
   "cell_type": "code",
   "execution_count": 12,
   "metadata": {},
   "outputs": [],
   "source": [
    "tt = Tokenizer(tok_func = ThaiTokenizer, lang = 'th', pre_rules = pre_rules_th, post_rules=post_rules_th)\n",
    "processor = [TokenizeProcessor(tokenizer=tt, chunksize=10000, mark_fields=False),\n",
    "            NumericalizeProcessor(vocab=data_lm.vocab, max_vocab=60000, min_freq=3)]\n",
    "\n",
    "data_cls = (TextList.from_df(train_bal, model_path, cols=['review'], processor=processor)\n",
    "    .random_split_by_pct(valid_pct = 0.01, seed = 1412)\n",
    "    .label_from_df('rating')\n",
    "    .add_test(TextList.from_df(test_df, model_path, cols=['review'], processor=processor))\n",
    "    .databunch(bs=32)\n",
    "    )\n",
    "\n",
    "data_cls.sanity_check()\n",
    "data_cls.save('wongnai_cls.pkl')"
   ]
  },
  {
   "cell_type": "code",
   "execution_count": 13,
   "metadata": {},
   "outputs": [
    {
     "data": {
      "text/plain": [
       "(22562, 22562)"
      ]
     },
     "execution_count": 13,
     "metadata": {},
     "output_type": "execute_result"
    }
   ],
   "source": [
    "#make sure we got the right number of vocab\n",
    "len(data_cls.vocab.itos), len(data_lm.vocab.itos)"
   ]
  },
  {
   "cell_type": "code",
   "execution_count": 53,
   "metadata": {},
   "outputs": [
    {
     "data": {
      "text/html": [
       "<table border=\"1\" class=\"dataframe\">\n",
       "  <thead>\n",
       "    <tr style=\"text-align: right;\">\n",
       "      <th>text</th>\n",
       "      <th>target</th>\n",
       "    </tr>\n",
       "  </thead>\n",
       "  <tbody>\n",
       "    <tr>\n",
       "      <td>xxbos   สำหรับ วันนี้ ก็ จะ พา ไป กิน อาหาร อาเซียน กันที่ รร. เจ้าพระยาปาร์ค   รัชดาภิเษก กัน บ้าง นะคะ   โดย การ ไป ครั้งนี้ ก็ เป็นการ ชวน จาก คุณ อ้น เจ้าเดิม เช่นเคย ค่ะ   ( งาน ชุก จริงๆ   xxunk )   สำหรับ การ ไป วันนั้น เรา เอา รถ ส่วนตัว ไป ค่ะ   รถติด มาก ถึง มาก ที่สุด   กว่า จะ ไป</td>\n",
       "      <td>4</td>\n",
       "    </tr>\n",
       "    <tr>\n",
       "      <td>xxbos   เมื่อ วันที่ 22   พฤศจิกายน   ที่ผ่านมา วงใน ได้ จัดกิจกรรม   xxmaj relax   day   xxmaj relax   night   ขึ้น ที่   xxmaj phothalai   ซึ่ง ใน งาน วันนี้ ได้ เริ่มต้น ขึ้น จาก การ ได้   xxmaj tasting   ประเดิม ห้องอาหาร ใหม่ สด ซิ งๆ ที่ เปิด ต้อนรับ   group   ของ</td>\n",
       "      <td>4</td>\n",
       "    </tr>\n",
       "    <tr>\n",
       "      <td>xxbos   มีปัญหา เรื่อง บริการ คน เยอะ คง ดูแล ไม่ ทั่วถึง   หรือ การ   xxmaj xxunk   เรื่อง การ บริการ   การสื่อสาร มีปัญหา พนักงาน กับ พนักงาน ไม่ คุย กัน   \\n   \\n   การสื่อสาร   ผม มาถึง ร้าน   16 : 43   น.   โดย ผม เดิน ไป ที่   xxmaj terrace</td>\n",
       "      <td>3</td>\n",
       "    </tr>\n",
       "    <tr>\n",
       "      <td>xxbos   เนื่องจาก คน พูดถึง มาก - มาก ที่สุด   จน ทน กระแส ความแรง ของ   xxmaj shibuya   xxmaj shabu   ไม่ไหว   วันนี้ ดาว จึง ขอ ตามรอย คุณ เบิร์ด   ( xxmaj user   :   xxmaj xxunk )   ซึ่ง ดาว ได้ อ่า นรี วิว ของ คุณ เบิร์ด แล้ว คิด ว่า จะ ต้องหา โอ กา สมาทาน ให้</td>\n",
       "      <td>4</td>\n",
       "    </tr>\n",
       "    <tr>\n",
       "      <td>xxbos   เปิด รี วิว ประจำสัปดาห์ นี้   ด้วย ชา บู ชั้น กลางๆ   \\n   \\n   สวัสดี เพื่อน ๆ ชาว วงใน กัน อีกครั้ง กับ ผม   xxmaj pednoii   ahha   กับ รี วิว ร้านอาหาร ใน กรุงเทพมหานคร   รี วิว แรก ใน วันนี้ ผม จะ มา นำเสนอ ร้าน ชา บู ที่ มี สาขา เยอะ ไม่ แพ้ ชา บู นางใน</td>\n",
       "      <td>2</td>\n",
       "    </tr>\n",
       "  </tbody>\n",
       "</table>"
      ],
      "text/plain": [
       "<IPython.core.display.HTML object>"
      ]
     },
     "metadata": {},
     "output_type": "display_data"
    }
   ],
   "source": [
    "data_cls.show_batch(5)"
   ]
  },
  {
   "cell_type": "code",
   "execution_count": 2,
   "metadata": {},
   "outputs": [],
   "source": [
    "config = dict(emb_sz=400, n_hid=1550, n_layers=4, pad_token=1, qrnn=False,\n",
    "             output_p=0.25, hidden_p=0.1, input_p=0.2, embed_p=0.02, weight_p=0.15)\n",
    "trn_args = dict(bptt=70, drop_mult=0.5, alpha=2, beta=1)\n",
    "\n",
    "learn = text_classifier_learner(data_cls, AWD_LSTM, config=config, pretrained=False, **trn_args)\n",
    "learn.opt_func = partial(optim.Adam, betas=(0.7, 0.99))\n",
    "\n",
    "#load pretrained finetuned model\n",
    "learn.load_encoder('wongnai_enc')"
   ]
  },
  {
   "cell_type": "code",
   "execution_count": 55,
   "metadata": {},
   "outputs": [
    {
     "data": {
      "text/html": [],
      "text/plain": [
       "<IPython.core.display.HTML object>"
      ]
     },
     "metadata": {},
     "output_type": "display_data"
    },
    {
     "name": "stdout",
     "output_type": "stream",
     "text": [
      "LR Finder is complete, type {learner_name}.recorder.plot() to see the graph.\n",
      "Min numerical gradient: 6.31E-07\n"
     ]
    },
    {
     "data": {
      "image/png": "[encoded data removed]",
      "text/plain": [
       "<Figure size 432x288 with 1 Axes>"
      ]
     },
     "metadata": {
      "needs_background": "light"
     },
     "output_type": "display_data"
    }
   ],
   "source": [
    "learn.lr_find()\n",
    "learn.recorder.plot()"
   ]
  },
  {
   "cell_type": "code",
   "execution_count": 57,
   "metadata": {},
   "outputs": [],
   "source": [
    "# #train unfrozen\n",
    "# learn.freeze_to(-1)\n",
    "# learn.fit_one_cycle(1, 2e-2, moms=(0.8, 0.7))"
   ]
  },
  {
   "cell_type": "code",
   "execution_count": null,
   "metadata": {},
   "outputs": [],
   "source": [
    "# #gradual unfreezing\n",
    "# learn.freeze_to(-2)\n",
    "# learn.fit_one_cycle(1, slice(1e-2 / (2.6 ** 4), 1e-2), moms=(0.8, 0.7))\n",
    "# learn.freeze_to(-3)\n",
    "# learn.fit_one_cycle(1, slice(5e-3 / (2.6 ** 4), 5e-3), moms=(0.8, 0.7))\n",
    "# learn.unfreeze()\n",
    "# learn.fit_one_cycle(1, slice(1e-3 / (2.6 ** 4), 1e-3), moms=(0.8, 0.7))"
   ]
  },
  {
   "cell_type": "markdown",
   "metadata": {},
   "source": [
    "```\n",
    "epoch     train_loss  valid_loss  accuracy\n",
    "1         1.187845    1.158394    0.472803\n",
    "Total time: 08:20\n",
    "epoch     train_loss  valid_loss  accuracy\n",
    "1         0.889035    0.828990    0.629707\n",
    "Total time: 08:39\n",
    "epoch     train_loss  valid_loss  accuracy\n",
    "1         0.760357    0.751162    0.656904\n",
    "Total time: 11:40\n",
    "epoch     train_loss  valid_loss  accuracy\n",
    "1         0.628719    0.721673    0.669456\n",
    "Total time: 18:06\n",
    "```"
   ]
  },
  {
   "cell_type": "markdown",
   "metadata": {},
   "source": [
    "### Submission"
   ]
  },
  {
   "cell_type": "code",
   "execution_count": 15,
   "metadata": {},
   "outputs": [],
   "source": [
    "config = dict(emb_sz=400, n_hid=1550, n_layers=4, pad_token=1, qrnn=False,\n",
    "             output_p=0.25, hidden_p=0.1, input_p=0.2, embed_p=0.02, weight_p=0.15)\n",
    "trn_args = dict(bptt=70, drop_mult=0.5, alpha=2, beta=1)\n",
    "\n",
    "learn = text_classifier_learner(data_cls, AWD_LSTM, config=config, pretrained=False, **trn_args)\n",
    "learn.opt_func = partial(optim.Adam, betas=(0.7, 0.99))\n",
    "\n",
    "learn.load('wongnai_cls');"
   ]
  },
  {
   "cell_type": "code",
   "execution_count": 22,
   "metadata": {},
   "outputs": [],
   "source": [
    "probs,y= learn.get_preds(DatasetType.Test, ordered=True)"
   ]
  },
  {
   "cell_type": "code",
   "execution_count": 34,
   "metadata": {},
   "outputs": [],
   "source": [
    "preds = np.argmax(probs.numpy(),1) + 1\n",
    "Counter(preds)"
   ]
  },
  {
   "cell_type": "code",
   "execution_count": 39,
   "metadata": {},
   "outputs": [],
   "source": [
    "submit_df = pd.DataFrame({'reviewID': test_df.reviewID,'rating':preds})\n",
    "submit_df.head()\n",
    "submit_df.to_csv('submit_ulmfit.csv',index=False)"
   ]
  }
 ],
 "metadata": {
  "kernelspec": {
   "display_name": "Python 3",
   "language": "python",
   "name": "python3"
  },
  "language_info": {
   "codemirror_mode": {
    "name": "ipython",
    "version": 3
   },
   "file_extension": ".py",
   "mimetype": "text/x-python",
   "name": "python",
   "nbconvert_exporter": "python",
   "pygments_lexer": "ipython3",
   "version": "3.7.7"
  }
 },
 "nbformat": 4,
 "nbformat_minor": 2
}
